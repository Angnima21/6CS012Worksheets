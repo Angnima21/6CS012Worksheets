{
 "cells": [
  {
   "cell_type": "code",
   "execution_count": 1,
   "id": "8f1ea371",
   "metadata": {},
   "outputs": [
    {
     "name": "stdout",
     "output_type": "stream",
     "text": [
      "Choose a conversion type:\n",
      "1. Meters to Feet\n",
      "2. Feet to Meters\n",
      "3. Kilograms to Pounds\n",
      "4. Pounds to Kilograms\n",
      "5. Liters to Gallons\n",
      "6. Gallons to Liters\n",
      "Enter the number of your choice: 1\n",
      "Enter the value to convert: 4\n",
      "4.0 converted using Meters to Feet is 13.1234\n"
     ]
    }
   ],
   "source": [
    "def meters_to_feet(meters):\n",
    "    \"\"\"Convert meters to feet.\n",
    "    \n",
    "    Parameters:\n",
    "        meters (float): The length in meters.\n",
    "    \n",
    "    Returns:\n",
    "        float: The equivalent length in feet.\n",
    "    \"\"\"\n",
    "    return meters * 3.28084\n",
    "\n",
    "def feet_to_meters(feet):\n",
    "    \"\"\"Convert feet to meters.\n",
    "    \n",
    "    Parameters:\n",
    "        feet (float): The length in feet.\n",
    "    \n",
    "    Returns:\n",
    "        float: The equivalent length in meters.\n",
    "    \"\"\"\n",
    "    return feet / 3.28084\n",
    "\n",
    "def kg_to_lbs(kg):\n",
    "    \"\"\"Convert kilograms to pounds.\n",
    "    \n",
    "    Parameters:\n",
    "        kg (float): The weight in kilograms.\n",
    "    \n",
    "    Returns:\n",
    "        float: The equivalent weight in pounds.\n",
    "    \"\"\"\n",
    "    return kg * 2.20462\n",
    "\n",
    "def lbs_to_kg(lbs):\n",
    "    \"\"\"Convert pounds to kilograms.\n",
    "    \n",
    "    Parameters:\n",
    "        lbs (float): The weight in pounds.\n",
    "    \n",
    "    Returns:\n",
    "        float: The equivalent weight in kilograms.\n",
    "    \"\"\"\n",
    "    return lbs / 2.20462\n",
    "\n",
    "def liters_to_gallons(liters):\n",
    "    \"\"\"Convert liters to gallons.\n",
    "    \n",
    "    Parameters:\n",
    "        liters (float): The volume in liters.\n",
    "    \n",
    "    Returns:\n",
    "        float: The equivalent volume in gallons.\n",
    "    \"\"\"\n",
    "    return liters * 0.264172\n",
    "\n",
    "def gallons_to_liters(gallons):\n",
    "    \"\"\"Convert gallons to liters.\n",
    "    \n",
    "    Parameters:\n",
    "        gallons (float): The volume in gallons.\n",
    "    \n",
    "    Returns:\n",
    "        float: The equivalent volume in liters.\n",
    "    \"\"\"\n",
    "    return gallons / 0.264172\n",
    "\n",
    "def main():\n",
    "    \"\"\"Main function to prompt user for conversion type and value.\"\"\"\n",
    "    print(\"Choose a conversion type:\")\n",
    "    print(\"1. Meters to Feet\")\n",
    "    print(\"2. Feet to Meters\")\n",
    "    print(\"3. Kilograms to Pounds\")\n",
    "    print(\"4. Pounds to Kilograms\")\n",
    "    print(\"5. Liters to Gallons\")\n",
    "    print(\"6. Gallons to Liters\")\n",
    "    \n",
    "    choice = input(\"Enter the number of your choice: \")\n",
    "    \n",
    "    if choice == '1':\n",
    "        conversion_func = meters_to_feet\n",
    "        conversion_name = \"Meters to Feet\"\n",
    "    elif choice == '2':\n",
    "        conversion_func = feet_to_meters\n",
    "        conversion_name = \"Feet to Meters\"\n",
    "    elif choice == '3':\n",
    "        conversion_func = kg_to_lbs\n",
    "        conversion_name = \"Kilograms to Pounds\"\n",
    "    elif choice == '4':\n",
    "        conversion_func = lbs_to_kg\n",
    "        conversion_name = \"Pounds to Kilograms\"\n",
    "    elif choice == '5':\n",
    "        conversion_func = liters_to_gallons\n",
    "        conversion_name = \"Liters to Gallons\"\n",
    "    elif choice == '6':\n",
    "        conversion_func = gallons_to_liters\n",
    "        conversion_name = \"Gallons to Liters\"\n",
    "    else:\n",
    "        print(\"Invalid choice. Please select a valid option.\")\n",
    "        return\n",
    "    \n",
    "    try:\n",
    "        value = float(input(\"Enter the value to convert: \"))\n",
    "        result = conversion_func(value)\n",
    "        print(f\"{value} converted using {conversion_name} is {result:.4f}\")\n",
    "    except ValueError:\n",
    "        print(\"Invalid input. Please enter a numeric value.\")\n",
    "\n",
    "main()\n",
    "\n"
   ]
  },
  {
   "cell_type": "code",
   "execution_count": 2,
   "id": "9e17fa64",
   "metadata": {},
   "outputs": [
    {
     "name": "stdout",
     "output_type": "stream",
     "text": [
      "Select an operation:\n",
      "1. Sum\n",
      "2. Average\n",
      "3. Maximum\n",
      "4. Minimum\n",
      "Enter the number corresponding to your choice: 3\n",
      "Enter a list of numbers separated by spaces: 1 2 3\n",
      "The maximum number is: 3.0\n"
     ]
    }
   ],
   "source": [
    "def find_sum(numbers):\n",
    "    \"\"\"\n",
    "    Function to find the sum of a list of numbers.\n",
    "    \n",
    "    Parameters:\n",
    "    numbers (list): A list of numeric values.\n",
    "    \n",
    "    Returns:\n",
    "    float: The sum of the numbers.\n",
    "    \"\"\"\n",
    "    return sum(numbers)\n",
    "\n",
    "\n",
    "def find_average(numbers):\n",
    "    \"\"\"\n",
    "    Function to find the average of a list of numbers.\n",
    "    \n",
    "    Parameters:\n",
    "    numbers (list): A list of numeric values.\n",
    "    \n",
    "    Returns:\n",
    "    float: The average of the numbers.\n",
    "    \"\"\"\n",
    "    if len(numbers) == 0:\n",
    "        raise ValueError(\"Cannot compute the average of an empty list.\")\n",
    "    return sum(numbers) / len(numbers)\n",
    "\n",
    "\n",
    "def find_maximum(numbers):\n",
    "    \"\"\"\n",
    "    Function to find the maximum number in a list.\n",
    "    \n",
    "    Parameters:\n",
    "    numbers (list): A list of numeric values.\n",
    "    \n",
    "    Returns:\n",
    "    float: The maximum number.\n",
    "    \"\"\"\n",
    "    if len(numbers) == 0:\n",
    "        raise ValueError(\"Cannot find the maximum of an empty list.\")\n",
    "    return max(numbers)\n",
    "\n",
    "\n",
    "def find_minimum(numbers):\n",
    "    \"\"\"\n",
    "    Function to find the minimum number in a list.\n",
    "    \n",
    "    Parameters:\n",
    "    numbers (list): A list of numeric values.\n",
    "    \n",
    "    Returns:\n",
    "    float: The minimum number.\n",
    "    \"\"\"\n",
    "    if len(numbers) == 0:\n",
    "        raise ValueError(\"Cannot find the minimum of an empty list.\")\n",
    "    return min(numbers)\n",
    "\n",
    "\n",
    "def main():\n",
    "    print(\"Select an operation:\")\n",
    "    print(\"1. Sum\")\n",
    "    print(\"2. Average\")\n",
    "    print(\"3. Maximum\")\n",
    "    print(\"4. Minimum\")\n",
    "    \n",
    "    try:\n",
    "        choice = int(input(\"Enter the number corresponding to your choice: \"))\n",
    "        \n",
    "        # Check if the choice is valid\n",
    "        if choice not in [1, 2, 3, 4]:\n",
    "            raise ValueError(\"Invalid choice! Please select a valid operation.\")\n",
    "        \n",
    "        numbers_input = input(\"Enter a list of numbers separated by spaces: \")\n",
    "        \n",
    "        # Convert input to a list of numbers\n",
    "        numbers = [float(x) for x in numbers_input.split()]\n",
    "        \n",
    "        if len(numbers) == 0:\n",
    "            raise ValueError(\"The list of numbers cannot be empty.\")\n",
    "        \n",
    "        # Perform the selected operation\n",
    "        if choice == 1:\n",
    "            result = find_sum(numbers)\n",
    "            print(f\"The sum of the numbers is: {result}\")\n",
    "        elif choice == 2:\n",
    "            result = find_average(numbers)\n",
    "            print(f\"The average of the numbers is: {result}\")\n",
    "        elif choice == 3:\n",
    "            result = find_maximum(numbers)\n",
    "            print(f\"The maximum number is: {result}\")\n",
    "        elif choice == 4:\n",
    "            result = find_minimum(numbers)\n",
    "            print(f\"The minimum number is: {result}\")\n",
    "    \n",
    "    except ValueError as ve:\n",
    "        print(f\"Error: {ve}\")\n",
    "    except Exception as e:\n",
    "        print(f\"An unexpected error occurred: {e}\")\n",
    "\n",
    "main()\n",
    "\n",
    "    \n",
    "    "
   ]
  },
  {
   "cell_type": "code",
   "execution_count": 4,
   "id": "b2581f34",
   "metadata": {
    "collapsed": true
   },
   "outputs": [
    {
     "name": "stdout",
     "output_type": "stream",
     "text": [
      "[1, 3, 5]\n"
     ]
    }
   ],
   "source": [
    "# Extract Every Other Element:\n",
    "\n",
    "def extract_every_other(lst):\n",
    "    \"\"\"\n",
    "    Function to extract every other element from a list, starting from the first element.\n",
    "    \n",
    "    Parameters:\n",
    "    lst (list): A list of elements.\n",
    "    \n",
    "    Returns:\n",
    "    list: A new list containing every other element from the original list.\n",
    "    \"\"\"\n",
    "    return lst[::2]\n",
    "\n",
    "lst = [1, 2, 3, 4, 5, 6]\n",
    "print(extract_every_other(lst))  # Output: [1, 3, 5]\n"
   ]
  },
  {
   "cell_type": "code",
   "execution_count": 5,
   "id": "229f9388",
   "metadata": {},
   "outputs": [
    {
     "name": "stdout",
     "output_type": "stream",
     "text": [
      "[3, 4, 5]\n"
     ]
    }
   ],
   "source": [
    "# Slice a Sublist:\n",
    "\n",
    "def get_sublist(lst, start, end):\n",
    "    \"\"\"\n",
    "    Function to return a sublist from the given list, starting from start index and ending at end index (inclusive).\n",
    "    \n",
    "    Parameters:\n",
    "    lst (list): A list of elements.\n",
    "    start (int): The start index.\n",
    "    end (int): The end index.\n",
    "    \n",
    "    Returns:\n",
    "    list: The sublist from start to end (inclusive).\n",
    "    \"\"\"\n",
    "    return lst[start:end+1]\n",
    "\n",
    "lst = [1, 2, 3, 4, 5, 6]\n",
    "print(get_sublist(lst, 2, 4))  # Output: [3, 4, 5]\n"
   ]
  },
  {
   "cell_type": "code",
   "execution_count": 6,
   "id": "7ff26870",
   "metadata": {},
   "outputs": [
    {
     "name": "stdout",
     "output_type": "stream",
     "text": [
      "[5, 4, 3, 2, 1]\n"
     ]
    }
   ],
   "source": [
    "#Reverse a List Using Slicing:\n",
    "\n",
    "def reverse_list(lst):\n",
    "    \"\"\"\n",
    "    Function to reverse a list using slicing.\n",
    "    \n",
    "    Parameters:\n",
    "    lst (list): A list of elements.\n",
    "    \n",
    "    Returns:\n",
    "    list: The reversed list.\n",
    "    \"\"\"\n",
    "    return lst[::-1]\n",
    "\n",
    "lst = [1, 2, 3, 4, 5]\n",
    "print(reverse_list(lst))  # Output: [5, 4, 3, 2, 1]\n"
   ]
  },
  {
   "cell_type": "code",
   "execution_count": 7,
   "id": "f5d4a00e",
   "metadata": {},
   "outputs": [
    {
     "name": "stdout",
     "output_type": "stream",
     "text": [
      "[2, 3, 4]\n"
     ]
    }
   ],
   "source": [
    "#Remove the First and Last Elements:\n",
    "\n",
    "def remove_first_last(lst):\n",
    "    \"\"\"\n",
    "    Function to remove the first and last elements of a list and return the resulting sublist.\n",
    "    \n",
    "    Parameters:\n",
    "    lst (list): A list of elements.\n",
    "    \n",
    "    Returns:\n",
    "    list: A sublist with the first and last elements removed.\n",
    "    \"\"\"\n",
    "    return lst[1:-1]\n",
    "\n",
    "lst = [1, 2, 3, 4, 5]\n",
    "print(remove_first_last(lst))  # Output: [2, 3, 4]\n"
   ]
  },
  {
   "cell_type": "code",
   "execution_count": 8,
   "id": "c0f87ac1",
   "metadata": {},
   "outputs": [
    {
     "name": "stdout",
     "output_type": "stream",
     "text": [
      "[1, 2, 3]\n"
     ]
    }
   ],
   "source": [
    "#Get the First n Elements:\n",
    "def get_first_n(lst, n):\n",
    "    \"\"\"\n",
    "    Function to extract the first n elements from a list.\n",
    "    \n",
    "    Parameters:\n",
    "    lst (list): A list of elements.\n",
    "    n (int): The number of elements to extract.\n",
    "    \n",
    "    Returns:\n",
    "    list: The first n elements from the list.\n",
    "    \"\"\"\n",
    "    return lst[:n]\n",
    "\n",
    "lst = [1, 2, 3, 4, 5]\n",
    "print(get_first_n(lst, 3))  # Output: [1, 2, 3]\n"
   ]
  },
  {
   "cell_type": "code",
   "execution_count": 9,
   "id": "d7a19bc2",
   "metadata": {},
   "outputs": [
    {
     "name": "stdout",
     "output_type": "stream",
     "text": [
      "[4, 5]\n"
     ]
    }
   ],
   "source": [
    "#Extract Elements from the End:\n",
    "\n",
    "def get_last_n(lst, n):\n",
    "    \"\"\"\n",
    "    Function to extract the last n elements from a list using slicing.\n",
    "    \n",
    "    Parameters:\n",
    "    lst (list): A list of elements.\n",
    "    n (int): The number of elements to extract from the end.\n",
    "    \n",
    "    Returns:\n",
    "    list: The last n elements from the list.\n",
    "    \"\"\"\n",
    "    return lst[-n:]\n",
    "\n",
    "lst = [1, 2, 3, 4, 5]\n",
    "print(get_last_n(lst, 2))  # Output: [4, 5]\n"
   ]
  },
  {
   "cell_type": "code",
   "execution_count": 10,
   "id": "e511a3e6",
   "metadata": {},
   "outputs": [
    {
     "name": "stdout",
     "output_type": "stream",
     "text": [
      "[5, 3, 1]\n"
     ]
    }
   ],
   "source": [
    "#Extract Elements in Reverse Order:\n",
    "    \n",
    "def reverse_skip(lst):\n",
    "    \"\"\"\n",
    "    Function to extract a list of elements in reverse order, starting from the second-to-last element,\n",
    "    skipping one element in between.\n",
    "    \n",
    "    Parameters:\n",
    "    lst (list): A list of elements.\n",
    "    \n",
    "    Returns:\n",
    "    list: A new list containing every second element starting from the second-to-last, moving backward.\n",
    "    \"\"\"\n",
    "    return lst[-2::-2]\n",
    "\n",
    "lst = [1, 2, 3, 4, 5, 6]\n",
    "print(reverse_skip(lst))  # Output: [5, 3, 1]\n"
   ]
  },
  {
   "cell_type": "code",
   "execution_count": 11,
   "id": "11a97976",
   "metadata": {},
   "outputs": [
    {
     "name": "stdout",
     "output_type": "stream",
     "text": [
      "[1, 2, 3, 4, 5]\n"
     ]
    }
   ],
   "source": [
    "#Flatten a Nested List:\n",
    "def flatten(lst):\n",
    "    \"\"\"\n",
    "    Function to flatten a nested list into a single list, where all the elements are in a single dimension.\n",
    "    \n",
    "    Parameters:\n",
    "    lst (list): A nested list of elements.\n",
    "    \n",
    "    Returns:\n",
    "    list: A flattened list with all elements in a single dimension.\n",
    "    \"\"\"\n",
    "    flattened = []\n",
    "    for item in lst:\n",
    "        if isinstance(item, list):\n",
    "            flattened.extend(flatten(item))  # Recursively flatten sublist\n",
    "        else:\n",
    "            flattened.append(item)\n",
    "    return flattened\n",
    "\n",
    "nested_lst = [[1, 2], [3, 4], [5]]\n",
    "print(flatten(nested_lst))  # Output: [1, 2, 3, 4, 5]\n"
   ]
  },
  {
   "cell_type": "code",
   "execution_count": 12,
   "id": "f78ea753",
   "metadata": {},
   "outputs": [
    {
     "name": "stdout",
     "output_type": "stream",
     "text": [
      "6\n"
     ]
    }
   ],
   "source": [
    "#Accessing Nested List Elements:\n",
    "\n",
    "def access_nested_element(lst, indices):\n",
    "    \"\"\"\n",
    "    Function to access a specific element from a nested list given its indices.\n",
    "    \n",
    "    Parameters:\n",
    "    lst (list): A nested list of elements.\n",
    "    indices (list): A list of indices to access the nested elements.\n",
    "    \n",
    "    Returns:\n",
    "    The element located at the specified indices in the nested list.\n",
    "    \"\"\"\n",
    "    element = lst\n",
    "    for index in indices:\n",
    "        element = element[index]\n",
    "    return element\n",
    "\n",
    "nested_lst = [[1, 2, 3], [4, 5, 6], [7, 8, 9]]\n",
    "indices = [1, 2]\n",
    "print(access_nested_element(nested_lst, indices))  # Output: 6\n",
    "\n"
   ]
  },
  {
   "cell_type": "code",
   "execution_count": 13,
   "id": "20ffa40b",
   "metadata": {},
   "outputs": [
    {
     "name": "stdout",
     "output_type": "stream",
     "text": [
      "21\n"
     ]
    }
   ],
   "source": [
    "# Sum of All Elements in a Nested List:\n",
    "\n",
    "def sum_nested(lst):\n",
    "    \"\"\"\n",
    "    Function to calculate the sum of all the numbers in a nested list (regardless of depth).\n",
    "    \n",
    "    Parameters:\n",
    "    lst (list): A nested list of elements.\n",
    "    \n",
    "    Returns:\n",
    "    int: The sum of all elements in the nested list.\n",
    "    \"\"\"\n",
    "    total = 0\n",
    "    for item in lst:\n",
    "        if isinstance(item, list):\n",
    "            total += sum_nested(item)  # Recursively sum sublist\n",
    "        else:\n",
    "            total += item\n",
    "    return total\n",
    "\n",
    "nested_lst = [[1, 2], [3, [4, 5]], 6]\n",
    "print(sum_nested(nested_lst))  # Output: 21\n"
   ]
  },
  {
   "cell_type": "code",
   "execution_count": 14,
   "id": "f392a476",
   "metadata": {},
   "outputs": [
    {
     "name": "stdout",
     "output_type": "stream",
     "text": [
      "[[1], [3], [4, 5]]\n"
     ]
    }
   ],
   "source": [
    "#Remove Specific Element from a Nested List:\n",
    "\n",
    "def remove_element(lst, elem):\n",
    "    \"\"\"\n",
    "    Function to remove all occurrences of a specific element from a nested list.\n",
    "    \n",
    "    Parameters:\n",
    "    lst (list): A nested list of elements.\n",
    "    elem (int/float/str): The element to remove.\n",
    "    \n",
    "    Returns:\n",
    "    list: The modified list with all occurrences of elem removed.\n",
    "    \"\"\"\n",
    "    result = []\n",
    "    for item in lst:\n",
    "        if isinstance(item, list):\n",
    "            result.append(remove_element(item, elem))  # Recursively process sublist\n",
    "        else:\n",
    "            if item != elem:\n",
    "                result.append(item)\n",
    "    return result\n",
    "\n",
    "nested_lst = [[1, 2], [3, 2], [4, 5]]\n",
    "elem = 2\n",
    "print(remove_element(nested_lst, elem))  # Output: [[1], [3], [4, 5]]\n",
    "\n"
   ]
  },
  {
   "cell_type": "code",
   "execution_count": 15,
   "id": "8b0c671f",
   "metadata": {},
   "outputs": [
    {
     "name": "stdout",
     "output_type": "stream",
     "text": [
      "6\n"
     ]
    }
   ],
   "source": [
    "#Find the Maximum Element in a Nested List:\n",
    "\n",
    "def find_max(lst):\n",
    "    \"\"\"\n",
    "    Function to find the maximum element in a nested list (regardless of depth).\n",
    "    \n",
    "    Parameters:\n",
    "    lst (list): A nested list of elements.\n",
    "    \n",
    "    Returns:\n",
    "    The maximum element in the nested list.\n",
    "    \"\"\"\n",
    "    max_element = float('-inf')  # Initialize to negative infinity\n",
    "    for item in lst:\n",
    "        if isinstance(item, list):\n",
    "            max_element = max(max_element, find_max(item))  # Recursively find max in sublist\n",
    "        else:\n",
    "            max_element = max(max_element, item)\n",
    "    return max_element\n",
    "\n",
    "nested_lst = [[1, 2], [3, [4, 5]], 6]\n",
    "print(find_max(nested_lst))  # Output: 6\n"
   ]
  },
  {
   "cell_type": "code",
   "execution_count": 16,
   "id": "63ccd01d",
   "metadata": {},
   "outputs": [
    {
     "name": "stdout",
     "output_type": "stream",
     "text": [
      "3\n"
     ]
    }
   ],
   "source": [
    "#Count Occurrences of an Element in a Nested List:\n",
    "\n",
    "def count_occurrences(lst, elem):\n",
    "    \"\"\"\n",
    "    Function to count how many times a specific element appears in a nested list.\n",
    "    \n",
    "    Parameters:\n",
    "    lst (list): A nested list of elements.\n",
    "    elem (int/float/str): The element whose occurrences need to be counted.\n",
    "    \n",
    "    Returns:\n",
    "    int: The number of occurrences of elem in the nested list.\n",
    "    \"\"\"\n",
    "    count = 0\n",
    "    for item in lst:\n",
    "        if isinstance(item, list):\n",
    "            count += count_occurrences(item, elem)  # Recursively count occurrences in sublist\n",
    "        else:\n",
    "            if item == elem:\n",
    "                count += 1\n",
    "    return count\n",
    "\n",
    "nested_lst = [[1, 2], [2, 3], [2, 4]]\n",
    "elem = 2\n",
    "print(count_occurrences(nested_lst, elem))  # Output: 3\n",
    "\n"
   ]
  },
  {
   "cell_type": "code",
   "execution_count": 17,
   "id": "582e97ef",
   "metadata": {},
   "outputs": [
    {
     "name": "stdout",
     "output_type": "stream",
     "text": [
      "[1, 2, 3, 4, 5, 6, 7, 8]\n"
     ]
    }
   ],
   "source": [
    "#Flatten a List of Lists of Lists:\n",
    "\n",
    "def deep_flatten(lst):\n",
    "    \"\"\"\n",
    "    Function to flatten a list of lists of lists into a single list, regardless of the depth.\n",
    "    \n",
    "    Parameters:\n",
    "    lst (list): A deeply nested list of elements.\n",
    "    \n",
    "    Returns:\n",
    "    list: A single flattened list.\n",
    "    \"\"\"\n",
    "    flattened = []\n",
    "    for item in lst:\n",
    "        if isinstance(item, list):\n",
    "            flattened.extend(deep_flatten(item))  # Recursively flatten sublist\n",
    "        else:\n",
    "            flattened.append(item)\n",
    "    return flattened\n",
    "\n",
    "nested_lst = [[[1, 2], [3, 4]], [[5, 6], [7, 8]]]\n",
    "print(deep_flatten(nested_lst))  # Output: [1, 2, 3, 4, 5, 6, 7, 8]\n"
   ]
  },
  {
   "cell_type": "code",
   "execution_count": 18,
   "id": "c049e11f",
   "metadata": {},
   "outputs": [
    {
     "name": "stdout",
     "output_type": "stream",
     "text": [
      "3.5\n"
     ]
    }
   ],
   "source": [
    "#Nested List Average:\n",
    "\n",
    "def average_nested(lst):\n",
    "    \"\"\"\n",
    "    Function to calculate the average of all elements in a nested list.\n",
    "    \n",
    "    Parameters:\n",
    "    lst (list): A nested list of elements.\n",
    "    \n",
    "    Returns:\n",
    "    float: The average of all elements in the nested list.\n",
    "    \"\"\"\n",
    "    total = 0\n",
    "    count = 0\n",
    "    \n",
    "    # Traverse the list recursively and calculate sum and count\n",
    "    def traverse(lst):\n",
    "        nonlocal total, count\n",
    "        for item in lst:\n",
    "            if isinstance(item, list):\n",
    "                traverse(item)  # Recursively traverse sublist\n",
    "            else:\n",
    "                total += item\n",
    "                count += 1\n",
    "    \n",
    "    traverse(lst)\n",
    "    return total / count if count > 0 else 0  # Avoid division by zero if list is empty\n",
    "\n",
    "nested_lst = [[1, 2], [3, 4], [5, 6]]\n",
    "print(average_nested(nested_lst))  # Output: 3.5\n",
    "\n"
   ]
  },
  {
   "cell_type": "markdown",
   "id": "d6419b63",
   "metadata": {},
   "source": [
    "# Numpy"
   ]
  },
  {
   "cell_type": "markdown",
   "id": "2e553bb8",
   "metadata": {},
   "source": [
    "Problem - 1: Array Creation\n"
   ]
  },
  {
   "cell_type": "code",
   "execution_count": 19,
   "id": "0d6a45ab",
   "metadata": {},
   "outputs": [
    {
     "name": "stdout",
     "output_type": "stream",
     "text": [
      "[[4.94065646e-324 0.00000000e+000]\n",
      " [6.95288632e-310 0.00000000e+000]]\n"
     ]
    }
   ],
   "source": [
    "import numpy as np\n",
    "empty_array = np.empty((2, 2))\n",
    "print(empty_array)\n"
   ]
  },
  {
   "cell_type": "code",
   "execution_count": 20,
   "id": "e8e6f7b0",
   "metadata": {},
   "outputs": [
    {
     "name": "stdout",
     "output_type": "stream",
     "text": [
      "[[1. 1.]\n",
      " [1. 1.]\n",
      " [1. 1.]\n",
      " [1. 1.]]\n"
     ]
    }
   ],
   "source": [
    "ones_array = np.ones((4, 2))\n",
    "print(ones_array)\n"
   ]
  },
  {
   "cell_type": "code",
   "execution_count": 21,
   "id": "ea214913",
   "metadata": {},
   "outputs": [
    {
     "name": "stdout",
     "output_type": "stream",
     "text": [
      "[[1. 1.]\n",
      " [1. 1.]\n",
      " [1. 1.]\n",
      " [1. 1.]]\n"
     ]
    }
   ],
   "source": [
    "ones_array = np.ones((4, 2))\n",
    "print(ones_array)\n"
   ]
  },
  {
   "cell_type": "code",
   "execution_count": 22,
   "id": "914ff4b4",
   "metadata": {},
   "outputs": [
    {
     "name": "stdout",
     "output_type": "stream",
     "text": [
      "[[0 0]\n",
      " [0 0]]\n"
     ]
    }
   ],
   "source": [
    "existing_array = np.array([[1, 2], [3, 4]])\n",
    "zeros_like_array = np.zeros_like(existing_array)\n",
    "print(zeros_like_array)\n"
   ]
  },
  {
   "cell_type": "code",
   "execution_count": 23,
   "id": "86f747ff",
   "metadata": {},
   "outputs": [
    {
     "name": "stdout",
     "output_type": "stream",
     "text": [
      "[[1 1]\n",
      " [1 1]]\n"
     ]
    }
   ],
   "source": [
    "ones_like_array = np.ones_like(existing_array)\n",
    "print(ones_like_array)\n"
   ]
  },
  {
   "cell_type": "code",
   "execution_count": 24,
   "id": "2c0aa353",
   "metadata": {},
   "outputs": [
    {
     "name": "stdout",
     "output_type": "stream",
     "text": [
      "[1 2 3 4]\n"
     ]
    }
   ],
   "source": [
    "new_list = [1, 2, 3, 4]\n",
    "np_array = np.array(new_list)\n",
    "print(np_array)\n"
   ]
  },
  {
   "cell_type": "markdown",
   "id": "2f9affca",
   "metadata": {},
   "source": [
    "Problem - 2: Array Manipulation: Numerical Ranges and Array Indexing"
   ]
  },
  {
   "cell_type": "code",
   "execution_count": 25,
   "id": "05ec9331",
   "metadata": {},
   "outputs": [
    {
     "name": "stdout",
     "output_type": "stream",
     "text": [
      "[10 11 12 13 14 15 16 17 18 19 20 21 22 23 24 25 26 27 28 29 30 31 32 33\n",
      " 34 35 36 37 38 39 40 41 42 43 44 45 46 47 48 49]\n"
     ]
    }
   ],
   "source": [
    "arr = np.arange(10, 50)\n",
    "print(arr)\n"
   ]
  },
  {
   "cell_type": "code",
   "execution_count": 26,
   "id": "f093124c",
   "metadata": {},
   "outputs": [
    {
     "name": "stdout",
     "output_type": "stream",
     "text": [
      "[[0 1 2]\n",
      " [3 4 5]\n",
      " [6 7 8]]\n"
     ]
    }
   ],
   "source": [
    "matrix = np.arange(9).reshape(3, 3)\n",
    "print(matrix)\n"
   ]
  },
  {
   "cell_type": "code",
   "execution_count": 27,
   "id": "e4035f8a",
   "metadata": {},
   "outputs": [
    {
     "name": "stdout",
     "output_type": "stream",
     "text": [
      "[[1. 0. 0.]\n",
      " [0. 1. 0.]\n",
      " [0. 0. 1.]]\n"
     ]
    }
   ],
   "source": [
    "identity_matrix = np.eye(3)\n",
    "print(identity_matrix)\n"
   ]
  },
  {
   "cell_type": "code",
   "execution_count": 28,
   "id": "9f33f4c7",
   "metadata": {},
   "outputs": [
    {
     "name": "stdout",
     "output_type": "stream",
     "text": [
      "0.48613701996225145\n"
     ]
    }
   ],
   "source": [
    "random_array = np.random.random(30)\n",
    "mean_value = random_array.mean()\n",
    "print(mean_value)\n"
   ]
  },
  {
   "cell_type": "code",
   "execution_count": 29,
   "id": "d1362345",
   "metadata": {},
   "outputs": [
    {
     "name": "stdout",
     "output_type": "stream",
     "text": [
      "Min: 0.0050295073029749116 Max: 0.9879148680394434\n"
     ]
    }
   ],
   "source": [
    "random_array_10x10 = np.random.random((10, 10))\n",
    "min_value = random_array_10x10.min()\n",
    "max_value = random_array_10x10.max()\n",
    "print(\"Min:\", min_value, \"Max:\", max_value)\n"
   ]
  },
  {
   "cell_type": "code",
   "execution_count": 30,
   "id": "c8a9083c",
   "metadata": {},
   "outputs": [
    {
     "name": "stdout",
     "output_type": "stream",
     "text": [
      "[0. 0. 0. 0. 1. 0. 0. 0. 0. 0.]\n"
     ]
    }
   ],
   "source": [
    "zero_array = np.zeros(10)\n",
    "zero_array[4] = 1  # Indexing is 0-based, so 5th element is index 4\n",
    "print(zero_array)\n"
   ]
  },
  {
   "cell_type": "code",
   "execution_count": 31,
   "id": "b124025d",
   "metadata": {},
   "outputs": [
    {
     "name": "stdout",
     "output_type": "stream",
     "text": [
      "[0 4 0 0 2 1]\n"
     ]
    }
   ],
   "source": [
    "arr = np.array([1, 2, 0, 0, 4, 0])\n",
    "reversed_arr = arr[::-1]\n",
    "print(reversed_arr)\n"
   ]
  },
  {
   "cell_type": "code",
   "execution_count": 32,
   "id": "414c5445",
   "metadata": {},
   "outputs": [
    {
     "name": "stdout",
     "output_type": "stream",
     "text": [
      "[[1. 1. 1. 1. 1.]\n",
      " [1. 0. 0. 0. 1.]\n",
      " [1. 0. 0. 0. 1.]\n",
      " [1. 0. 0. 0. 1.]\n",
      " [1. 1. 1. 1. 1.]]\n"
     ]
    }
   ],
   "source": [
    "border_array = np.ones((5, 5))\n",
    "border_array[1:-1, 1:-1] = 0\n",
    "print(border_array)\n"
   ]
  },
  {
   "cell_type": "code",
   "execution_count": 33,
   "id": "85c8a510",
   "metadata": {},
   "outputs": [
    {
     "name": "stdout",
     "output_type": "stream",
     "text": [
      "[[0. 1. 0. 1. 0. 1. 0. 1.]\n",
      " [1. 0. 1. 0. 1. 0. 1. 0.]\n",
      " [0. 1. 0. 1. 0. 1. 0. 1.]\n",
      " [1. 0. 1. 0. 1. 0. 1. 0.]\n",
      " [0. 1. 0. 1. 0. 1. 0. 1.]\n",
      " [1. 0. 1. 0. 1. 0. 1. 0.]\n",
      " [0. 1. 0. 1. 0. 1. 0. 1.]\n",
      " [1. 0. 1. 0. 1. 0. 1. 0.]]\n"
     ]
    }
   ],
   "source": [
    "checkerboard = np.zeros((8, 8))\n",
    "checkerboard[1::2, ::2] = 1\n",
    "checkerboard[::2, 1::2] = 1\n",
    "print(checkerboard)\n"
   ]
  },
  {
   "cell_type": "markdown",
   "id": "1fafe9b3",
   "metadata": {},
   "source": [
    "Problem - 3: Array Operations\n"
   ]
  },
  {
   "cell_type": "code",
   "execution_count": 35,
   "id": "eb810114",
   "metadata": {},
   "outputs": [
    {
     "name": "stdout",
     "output_type": "stream",
     "text": [
      "[[ 6  8]\n",
      " [10 13]]\n"
     ]
    }
   ],
   "source": [
    "x = np.array([[1, 2], [3, 5]])\n",
    "y = np.array([[5, 6], [7, 8]])\n",
    "v = np.array([9, 10])\n",
    "w = np.array([11, 12])\n",
    "\n",
    "sum_array = x + y\n",
    "print(sum_array)\n"
   ]
  },
  {
   "cell_type": "code",
   "execution_count": 36,
   "id": "f86a8c65",
   "metadata": {},
   "outputs": [
    {
     "name": "stdout",
     "output_type": "stream",
     "text": [
      "[[-4 -4]\n",
      " [-4 -3]]\n"
     ]
    }
   ],
   "source": [
    "x = np.array([[1, 2], [3, 5]])\n",
    "y = np.array([[5, 6], [7, 8]])\n",
    "v = np.array([9, 10])\n",
    "w = np.array([11, 12])\n",
    "\n",
    "diff_array = x - y\n",
    "print(diff_array)\n",
    "\n"
   ]
  },
  {
   "cell_type": "code",
   "execution_count": 37,
   "id": "9417aa72",
   "metadata": {},
   "outputs": [
    {
     "name": "stdout",
     "output_type": "stream",
     "text": [
      "[[ 3  6]\n",
      " [ 9 15]]\n"
     ]
    }
   ],
   "source": [
    "x = np.array([[1, 2], [3, 5]])\n",
    "y = np.array([[5, 6], [7, 8]])\n",
    "v = np.array([9, 10])\n",
    "w = np.array([11, 12])\n",
    "\n",
    "multiplied_array = x * 3  # Multiply x by 3 as an example\n",
    "print(multiplied_array)\n"
   ]
  },
  {
   "cell_type": "code",
   "execution_count": 38,
   "id": "bd75ce3e",
   "metadata": {},
   "outputs": [
    {
     "name": "stdout",
     "output_type": "stream",
     "text": [
      "[[ 1  4]\n",
      " [ 9 25]]\n"
     ]
    }
   ],
   "source": [
    "x = np.array([[1, 2], [3, 5]])\n",
    "y = np.array([[5, 6], [7, 8]])\n",
    "v = np.array([9, 10])\n",
    "w = np.array([11, 12])\n",
    "\n",
    "squared_array = np.square(x)\n",
    "print(squared_array)\n"
   ]
  },
  {
   "cell_type": "code",
   "execution_count": 39,
   "id": "2a43462c",
   "metadata": {},
   "outputs": [
    {
     "name": "stdout",
     "output_type": "stream",
     "text": [
      "Dot product of v and w: 219\n",
      "Dot product of x and v: [29 77]\n",
      "Dot product of x and y: [[19 22]\n",
      " [50 58]]\n"
     ]
    }
   ],
   "source": [
    "dot_vw = np.dot(v, w)\n",
    "dot_xv = np.dot(x, v)\n",
    "dot_xy = np.dot(x, y)\n",
    "\n",
    "print(\"Dot product of v and w:\", dot_vw)\n",
    "print(\"Dot product of x and v:\", dot_xv)\n",
    "print(\"Dot product of x and y:\", dot_xy)\n"
   ]
  },
  {
   "cell_type": "code",
   "execution_count": 46,
   "id": "57e0c26f",
   "metadata": {},
   "outputs": [
    {
     "name": "stdout",
     "output_type": "stream",
     "text": [
      "Concatenated x and y along row: [[1 2 5 6]\n",
      " [3 5 7 8]]\n",
      "Concatenated v and w along column: [[ 9 11]\n",
      " [10 12]]\n"
     ]
    }
   ],
   "source": [
    "\n",
    "\n",
    "concatenated_xy = np.concatenate((x, y), axis=1)  # Concatenate along columns\n",
    "concatenated_vw = np.concatenate((v.reshape(-1, 1), w.reshape(-1, 1)), axis=1)  # Concatenate along row\n",
    "print(\"Concatenated x and y along row:\", concatenated_xy)\n",
    "print(\"Concatenated v and w along column:\", concatenated_vw)\n"
   ]
  },
  {
   "cell_type": "code",
   "execution_count": null,
   "id": "1307c615",
   "metadata": {},
   "outputs": [],
   "source": []
  },
  {
   "cell_type": "markdown",
   "id": "82b16f14",
   "metadata": {},
   "source": [
    "Problem - 4: Matrix Operations"
   ]
  },
  {
   "cell_type": "code",
   "execution_count": 48,
   "id": "38f7e0be",
   "metadata": {},
   "outputs": [
    {
     "name": "stdout",
     "output_type": "stream",
     "text": [
      "A * A^-1 = I:\n",
      " [[1.0000000e+00 4.4408921e-16]\n",
      " [0.0000000e+00 1.0000000e+00]]\n"
     ]
    }
   ],
   "source": [
    "A = np.array([[3, 4], [7, 8]])\n",
    "B = np.array([[5, 3], [2, 1]])\n",
    "\n",
    "A_inv = np.linalg.inv(A)\n",
    "identity_matrix = np.dot(A, A_inv)\n",
    "print(\"A * A^-1 = I:\\n\", identity_matrix)\n",
    "\n"
   ]
  },
  {
   "cell_type": "code",
   "execution_count": 49,
   "id": "eed99000",
   "metadata": {},
   "outputs": [
    {
     "name": "stdout",
     "output_type": "stream",
     "text": [
      "AB =\n",
      " [[23 13]\n",
      " [51 29]]\n",
      "BA =\n",
      " [[36 44]\n",
      " [13 16]]\n"
     ]
    }
   ],
   "source": [
    "A = np.array([[3, 4], [7, 8]])\n",
    "B = np.array([[5, 3], [2, 1]])\n",
    "\n",
    "product_ab = np.dot(A, B)\n",
    "product_ba = np.dot(B, A)\n",
    "print(\"AB =\\n\", product_ab)\n",
    "print(\"BA =\\n\", product_ba)\n",
    "\n",
    "\n"
   ]
  },
  {
   "cell_type": "code",
   "execution_count": 50,
   "id": "060c08fc",
   "metadata": {},
   "outputs": [
    {
     "name": "stdout",
     "output_type": "stream",
     "text": [
      "(AB)^T = B^T A^T:\n",
      " [[23 51]\n",
      " [13 29]]\n",
      "B^T A^T =\n",
      " [[23 51]\n",
      " [13 29]]\n"
     ]
    }
   ],
   "source": [
    "A = np.array([[3, 4], [7, 8]])\n",
    "B = np.array([[5, 3], [2, 1]])\n",
    "\n",
    "transposed_ab = np.transpose(np.dot(A, B))\n",
    "transposed_ba = np.dot(np.transpose(B), np.transpose(A))\n",
    "print(\"(AB)^T = B^T A^T:\\n\", transposed_ab)\n",
    "print(\"B^T A^T =\\n\", transposed_ba)\n"
   ]
  },
  {
   "cell_type": "code",
   "execution_count": 53,
   "id": "c9ec597e",
   "metadata": {},
   "outputs": [
    {
     "name": "stdout",
     "output_type": "stream",
     "text": [
      "Solution (x, y, z): [ 2.  1. -2.]\n"
     ]
    }
   ],
   "source": [
    "A = np.array([[2, -3, 1], [1, -1, 2], [3, 1, -1]])\n",
    "B = np.array([-1, -3, 9])\n",
    "\n",
    "# Solve for X = A^-1 * B\n",
    "X = np.linalg.inv(A).dot(B)\n",
    "print(\"Solution (x, y, z):\", X)\n"
   ]
  },
  {
   "cell_type": "code",
   "execution_count": 54,
   "id": "025bab3f",
   "metadata": {},
   "outputs": [
    {
     "name": "stdout",
     "output_type": "stream",
     "text": [
      "Solution using np.linalg.inv: [ 2.  1. -2.]\n"
     ]
    }
   ],
   "source": [
    "solution = np.linalg.inv(A).dot(B)\n",
    "print(\"Solution using np.linalg.inv:\", solution)\n"
   ]
  },
  {
   "cell_type": "code",
   "execution_count": null,
   "id": "fac94e27",
   "metadata": {},
   "outputs": [],
   "source": []
  }
 ],
 "metadata": {
  "kernelspec": {
   "display_name": "Python 3 (ipykernel)",
   "language": "python",
   "name": "python3"
  },
  "language_info": {
   "codemirror_mode": {
    "name": "ipython",
    "version": 3
   },
   "file_extension": ".py",
   "mimetype": "text/x-python",
   "name": "python",
   "nbconvert_exporter": "python",
   "pygments_lexer": "ipython3",
   "version": "3.9.13"
  }
 },
 "nbformat": 4,
 "nbformat_minor": 5
}
