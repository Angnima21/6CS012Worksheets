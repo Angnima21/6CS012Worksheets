{
  "cells": [
    {
      "cell_type": "code",
      "execution_count": 1,
      "id": "26bc3487-110f-45d4-8d3a-2c82177c76aa",
      "metadata": {
        "collapsed": true,
        "jupyter": {
          "outputs_hidden": true
        },
        "colab": {
          "base_uri": "https://localhost:8080/"
        },
        "id": "26bc3487-110f-45d4-8d3a-2c82177c76aa",
        "outputId": "9bb1aec9-5aa9-4f9d-c4c0-44742a79c174"
      },
      "outputs": [
        {
          "output_type": "stream",
          "name": "stdout",
          "text": [
            "Unit Converter: Choose a conversion type:\n",
            "1. Length (meters to feet / feet to meters)\n",
            "2. Weight (kilograms to pounds / pounds to kilograms)\n",
            "3. Volume (liters to gallons / gallons to liters)\n",
            "Enter your choice (1-3): 1\n",
            "Enter the value to convert: 15\n",
            "Enter the unit (m/ft): m\n",
            "Converted Value: 49.21 ft\n"
          ]
        }
      ],
      "source": [
        "# Import necessary libraries\n",
        "import time\n",
        "\n",
        "def convert_length(value, unit):\n",
        "    #Convert length between meters and feet.\n",
        "    #param value: Numeric value to be converted\n",
        "    #param unit: The unit of the input value ('m' for meters, 'ft' for feet)\n",
        "    #return: Converted value with appropriate unit\n",
        "\n",
        "    if unit == 'm':\n",
        "        return value * 3.28084, 'ft'\n",
        "    elif unit == 'ft':\n",
        "        return value / 3.28084, 'm'\n",
        "    else:\n",
        "        raise ValueError(\"Unsupported length unit. Use 'm' for meters or 'ft' for feet.\")\n",
        "\n",
        "#Convert weight between kilograms and pounds.\n",
        "#param value: Numeric value to be converted\n",
        "#param unit: The unit of the input value ('kg' for kilograms, 'lbs' for pounds)\n",
        "    #return: Converted value with appropriate unit\n",
        "def convert_weight(value, unit):\n",
        "\n",
        "\n",
        "    if unit == 'kg':\n",
        "        return value * 2.20462, 'lbs'\n",
        "    elif unit == 'lbs':\n",
        "        return value / 2.20462, 'kg'\n",
        "    else:\n",
        "        raise ValueError(\"Unsupported weight unit. Use 'kg' for kilograms or 'lbs' for pounds.\")\n",
        "\n",
        "def convert_volume(value, unit):\n",
        "\n",
        "    #Convert volume between liters and gallons.\n",
        "    #param value: Numeric value to be converted\n",
        "    #param unit: The unit of the input value ('L' for liters, 'gal' for gallons)\n",
        "    #return: Converted value with appropriate unit\n",
        "\n",
        "    if unit == 'L':\n",
        "        return value * 0.264172, 'gal'\n",
        "    elif unit == 'gal':\n",
        "        return value / 0.264172, 'L'\n",
        "    else:\n",
        "        raise ValueError(\"Unsupported volume unit. Use 'L' for liters or 'gal' for gallons.\")\n",
        "\n",
        "def main():\n",
        "    print(\"Unit Converter: Choose a conversion type:\")\n",
        "    print(\"1. Length (meters to feet / feet to meters)\")\n",
        "    print(\"2. Weight (kilograms to pounds / pounds to kilograms)\")\n",
        "    print(\"3. Volume (liters to gallons / gallons to liters)\")\n",
        "\n",
        "    try:\n",
        "        choice = int(input(\"Enter your choice (1-3): \"))\n",
        "        value = float(input(\"Enter the value to convert: \"))\n",
        "\n",
        "        if choice == 1:\n",
        "            unit = input(\"Enter the unit (m/ft): \")\n",
        "            converted_value, converted_unit = convert_length(value, unit)\n",
        "        elif choice == 2:\n",
        "            unit = input(\"Enter the unit (kg/lbs): \")\n",
        "            converted_value, converted_unit = convert_weight(value, unit)\n",
        "        elif choice == 3:\n",
        "            unit = input(\"Enter the unit (L/gal): \")\n",
        "            converted_value, converted_unit = convert_volume(value, unit)\n",
        "        else:\n",
        "            print(\"Invalid choice. Please select a valid option.\")\n",
        "            return\n",
        "\n",
        "        print(f\"Converted Value: {converted_value:.2f} {converted_unit}\")\n",
        "    except ValueError as e:\n",
        "        print(f\"Error: {e}\")\n",
        "    except Exception as e:\n",
        "        print(\"An unexpected error occurred:\", e)\n",
        "\n",
        "if __name__ == \"__main__\":\n",
        "    main()"
      ]
    },
    {
      "cell_type": "code",
      "execution_count": 5,
      "id": "62da73c0-2f5f-490c-b4f8-c14652f5d06f",
      "metadata": {
        "colab": {
          "base_uri": "https://localhost:8080/"
        },
        "id": "62da73c0-2f5f-490c-b4f8-c14652f5d06f",
        "outputId": "23e82a7b-ac10-4d7b-88d9-bcd313a2609b"
      },
      "outputs": [
        {
          "output_type": "stream",
          "name": "stdout",
          "text": [
            "Choose an operation:\n",
            "1. Sum\n",
            "2. Average\n",
            "3. Maximum\n",
            "4. Minimum\n",
            "Enter the number of the operation: 1\n",
            "Enter numbers separated by spaces: 5\n",
            "The Sum of the numbers is: 5.0\n"
          ]
        }
      ],
      "source": [
        "def calculate(numbers, operation):\n",
        "    #Perform the specified operation on a list of numbers.\n",
        "    # Check the operation type and calculate the result\n",
        "    if operation == 'sum':\n",
        "        return sum(numbers)\n",
        "    elif operation == 'average':\n",
        "        return sum(numbers) / len(numbers) if numbers else 0\n",
        "    elif operation == 'maximum':\n",
        "        return max(numbers)\n",
        "    elif operation == 'minimum':\n",
        "        return min(numbers)\n",
        "\n",
        "def main():\n",
        "    #Main function to execute the mathematical operations program.\n",
        "    # Define the available operations and their display names\n",
        "    operations = {\n",
        "        '1': ('sum', 'Sum'),\n",
        "        '2': ('average', 'Average'),\n",
        "        '3': ('maximum', 'Maximum'),\n",
        "        '4': ('minimum', 'Minimum')\n",
        "    }\n",
        "\n",
        "    # Prompt user to choose an operation\n",
        "    print(\"Choose an operation:\")\n",
        "    for key, (_, name) in operations.items():\n",
        "        print(f\"{key}. {name}\")\n",
        "\n",
        "    # Get the user's choice\n",
        "    choice = input(\"Enter the number of the operation: \")\n",
        "    if choice not in operations:\n",
        "        print(\"Invalid choice.\")\n",
        "        return\n",
        "\n",
        "    try:\n",
        "        # Take input for numbers and convert them to a list of floats\n",
        "        numbers = list(map(float, input(\"Enter numbers separated by spaces: \").split()))\n",
        "        if not numbers:\n",
        "            raise ValueError(\"The list cannot be empty.\")\n",
        "\n",
        "        # Get the corresponding operation and display the result\n",
        "        operation = operations[choice][0]\n",
        "        result = calculate(numbers, operation)\n",
        "        print(f\"The {operations[choice][1]} of the numbers is: {result}\")\n",
        "    except ValueError as e:\n",
        "        # Handle any errors (e.g., invalid numbers or empty list)\n",
        "        print(f\"Error: {e}\")\n",
        "\n",
        "# Execute the main function when the script is run\n",
        "if __name__ == \"__main__\":\n",
        "    main()\n"
      ]
    },
    {
      "cell_type": "code",
      "execution_count": 6,
      "id": "17732e35-821e-4c2b-9150-f25736a9b92f",
      "metadata": {
        "colab": {
          "base_uri": "https://localhost:8080/"
        },
        "id": "17732e35-821e-4c2b-9150-f25736a9b92f",
        "outputId": "868dedc4-8e86-4f71-9fee-c7a67d80a54f"
      },
      "outputs": [
        {
          "output_type": "stream",
          "name": "stdout",
          "text": [
            "[1, 3, 5]\n"
          ]
        }
      ],
      "source": [
        "def extract_every_other(lst):\n",
        "    # Extract every other element from the input list, starting from the first element.\n",
        "    # This is done using list slicing with a step of 2.\n",
        "    return lst[::2]\n",
        "\n",
        "# Example usage\n",
        "example_list = [1, 2, 3, 4, 5, 6]\n",
        "result = extract_every_other(example_list)\n",
        "\n",
        "# Print the result to show the output\n",
        "print(result)  # Output: [1, 3, 5]\n",
        "\n"
      ]
    },
    {
      "cell_type": "code",
      "execution_count": 7,
      "id": "ea9d343a-0b4c-41e9-aa29-881d7fdb2ba3",
      "metadata": {
        "colab": {
          "base_uri": "https://localhost:8080/"
        },
        "id": "ea9d343a-0b4c-41e9-aa29-881d7fdb2ba3",
        "outputId": "f8774f92-5764-4015-ab4a-32e204198d6b"
      },
      "outputs": [
        {
          "output_type": "stream",
          "name": "stdout",
          "text": [
            "[3, 4, 5]\n"
          ]
        }
      ],
      "source": [
        "def get_sublist(lst, start, end):\n",
        "    # Extract a sublist from the given list using the start and end indices.\n",
        "    # The end index is inclusive, so we add 1 to the end value for slicing.\n",
        "    return lst[start:end+1]\n",
        "\n",
        "# Example usage\n",
        "example_list = [1, 2, 3, 4, 5, 6]\n",
        "\n",
        "# Get the sublist from index 2 to 4 (inclusive)\n",
        "result = get_sublist(example_list, 2, 4)\n",
        "\n",
        "# Print the result to see the sublist\n",
        "print(result)  # Output: [3, 4, 5]\n"
      ]
    },
    {
      "cell_type": "code",
      "execution_count": 8,
      "id": "87a2dca6-136e-41d4-9323-9d53a57af670",
      "metadata": {
        "colab": {
          "base_uri": "https://localhost:8080/"
        },
        "id": "87a2dca6-136e-41d4-9323-9d53a57af670",
        "outputId": "1d21962c-252a-4526-f4fa-67d4ccb63ccc"
      },
      "outputs": [
        {
          "output_type": "stream",
          "name": "stdout",
          "text": [
            "[5, 4, 3, 2, 1]\n"
          ]
        }
      ],
      "source": [
        "def reverse_list(lst):\n",
        "    # Reverse the given list using slicing.\n",
        "    # The slicing step of -1 means \"start from the end and move backwards.\"\n",
        "    return lst[::-1]\n",
        "\n",
        "# Example usage\n",
        "example_list = [1, 2, 3, 4, 5]\n",
        "\n",
        "# Reverse the list and store the result\n",
        "result = reverse_list(example_list)\n",
        "\n",
        "# Print the reversed list\n",
        "print(result)  # Output: [5, 4, 3, 2, 1]\n"
      ]
    },
    {
      "cell_type": "code",
      "execution_count": 10,
      "id": "b829801e-0abf-405c-a66e-5cb0ec56a049",
      "metadata": {
        "colab": {
          "base_uri": "https://localhost:8080/"
        },
        "id": "b829801e-0abf-405c-a66e-5cb0ec56a049",
        "outputId": "c1594407-9516-445b-dff8-dfed7ad98d6f"
      },
      "outputs": [
        {
          "output_type": "stream",
          "name": "stdout",
          "text": [
            "[2, 3, 4]\n"
          ]
        }
      ],
      "source": [
        "def remove_first_last(lst):\n",
        "    # Remove the first and last elements of the list using slicing.\n",
        "    # The slice starts from index 1 (second element) and goes up to the second last element.\n",
        "    return lst[1:-1]\n",
        "\n",
        "# Example usage\n",
        "example_list = [1, 2, 3, 4, 5]\n",
        "\n",
        "# Call the function and store the result\n",
        "result = remove_first_last(example_list)\n",
        "\n",
        "# Print the result, which will be a list without the first and last elements\n",
        "print(result)  # Output: [2, 3, 4]\n"
      ]
    },
    {
      "cell_type": "code",
      "execution_count": 11,
      "id": "d98ec23d-c3b6-41ba-a7af-4c93e6fbbd85",
      "metadata": {
        "colab": {
          "base_uri": "https://localhost:8080/"
        },
        "id": "d98ec23d-c3b6-41ba-a7af-4c93e6fbbd85",
        "outputId": "683aad36-40b4-4213-c1a3-2001be6aefac"
      },
      "outputs": [
        {
          "output_type": "stream",
          "name": "stdout",
          "text": [
            "[1, 2, 3]\n"
          ]
        }
      ],
      "source": [
        "def get_first_n(lst, n):\n",
        "    # Extract the first n elements from the list using slicing.\n",
        "    # The slice starts from the beginning of the list and ends at index n.\n",
        "    return lst[:n]\n",
        "\n",
        "# Example usage\n",
        "example_list = [1, 2, 3, 4, 5]\n",
        "\n",
        "# Call the function to get the first 3 elements of the list\n",
        "result = get_first_n(example_list, 3)\n",
        "\n",
        "# Print the result, which will be the first 3 elements of the list\n",
        "print(result)\n"
      ]
    },
    {
      "cell_type": "code",
      "execution_count": 12,
      "id": "aa760fc3-18c0-4f88-a8a7-75add8d5aa0e",
      "metadata": {
        "colab": {
          "base_uri": "https://localhost:8080/"
        },
        "id": "aa760fc3-18c0-4f88-a8a7-75add8d5aa0e",
        "outputId": "a5d29cb7-1a9a-48c5-e020-d2a10970f12f"
      },
      "outputs": [
        {
          "output_type": "stream",
          "name": "stdout",
          "text": [
            "[4, 5]\n"
          ]
        }
      ],
      "source": [
        "#Task8\n",
        "def get_last_n(lst, n):\n",
        "    \"\"\"\n",
        "    Extracts the last n elements from the given list.\n",
        "\n",
        "    Parameters:\n",
        "    lst (list): The input list from which the last n elements are to be extracted.\n",
        "    n (int): The number of elements to extract from the end of the list.\n",
        "\n",
        "    Returns:\n",
        "    list: A new list containing the last n elements of the original list.\n",
        "    \"\"\"\n",
        "    return lst[-n:]  # Slice to get the last n elements\n",
        "\n",
        "# Example usage\n",
        "example_list = [1, 2, 3, 4, 5]\n",
        "result = get_last_n(example_list, 2)\n",
        "print(result)  # Output: [4, 5]\n"
      ]
    },
    {
      "cell_type": "code",
      "execution_count": null,
      "id": "043a29af-9ed4-40d9-912b-fa1dcae4d197",
      "metadata": {
        "id": "043a29af-9ed4-40d9-912b-fa1dcae4d197",
        "outputId": "0f0c963a-c6e1-4f5f-c883-d60e1915b452"
      },
      "outputs": [
        {
          "name": "stdout",
          "output_type": "stream",
          "text": [
            "[5, 3, 1]\n"
          ]
        }
      ],
      "source": [
        "#Task- 9\n",
        "def reverse_skip(lst):\n",
        "    \"\"\"\n",
        "    Extracts elements in reverse order starting from the second-to-last element,\n",
        "    skipping one element in between.\n",
        "\n",
        "    Parameters:\n",
        "    lst (list): The input list from which elements are to be extracted.\n",
        "\n",
        "    Returns:\n",
        "    list: A new list containing every second element starting from the second-to-last element, moving backward.\n",
        "    \"\"\"\n",
        "    return lst[-2::-2]  # Slice to start from second-to-last and skip every second element backward\n",
        "\n",
        "# Example usage\n",
        "example_list = [1, 2, 3, 4, 5, 6]\n",
        "result = reverse_skip(example_list)\n",
        "print(result)\n"
      ]
    },
    {
      "cell_type": "code",
      "execution_count": 13,
      "id": "7d58d5a9-db76-4251-a3f1-145ca27f8a90",
      "metadata": {
        "colab": {
          "base_uri": "https://localhost:8080/"
        },
        "id": "7d58d5a9-db76-4251-a3f1-145ca27f8a90",
        "outputId": "c7d581be-5e45-48dd-d509-1ca80ce06e33"
      },
      "outputs": [
        {
          "output_type": "stream",
          "name": "stdout",
          "text": [
            "[1, 2, 3, 4, 5, 6, 7]\n"
          ]
        }
      ],
      "source": [
        "def flatten(lst):\n",
        "    flat_list = []  # Initialize an empty list to store flattened elements\n",
        "    for item in lst:\n",
        "        if isinstance(item, list):  # Check if the item is a list\n",
        "            flat_list.extend(flatten(item))  # Recursively flatten nested lists\n",
        "        else:\n",
        "            flat_list.append(item)  # If it's not a list, add it directly\n",
        "    return flat_list\n",
        "\n",
        "# Example usage\n",
        "example_list = [[1, 2], [3, [4, 5]], [6, 7]]\n",
        "result = flatten(example_list)\n",
        "print(result)\n"
      ]
    },
    {
      "cell_type": "code",
      "execution_count": 14,
      "id": "2f37418b-40e4-4cb5-8712-153f5caac5ff",
      "metadata": {
        "colab": {
          "base_uri": "https://localhost:8080/"
        },
        "id": "2f37418b-40e4-4cb5-8712-153f5caac5ff",
        "outputId": "e24dceb4-4bc6-4e5c-b4fd-55417676eae3"
      },
      "outputs": [
        {
          "output_type": "stream",
          "name": "stdout",
          "text": [
            "6\n"
          ]
        }
      ],
      "source": [
        "#Task-11\n",
        "def access_nested_element(lst, indices):\n",
        "\n",
        "    #Extracts a specific element from a nested list given a list of indices.\n",
        "\n",
        "    #Parameters:\n",
        "    #lst (list): The nested list from which to extract the element.\n",
        "    #indices (list): A list of indices representing the path to the desired element.\n",
        "\n",
        "    #Returns:\n",
        "    #any: The element at the specified indices, or None if indices are invalid.\n",
        "\n",
        "    try:\n",
        "        element = lst  # Start with the original nested list\n",
        "        for index in indices:\n",
        "            element = element[index]  # Navigate deeper using the provided indices\n",
        "        return element\n",
        "    except (IndexError, TypeError):\n",
        "        return None  # Return None if indices are out of range or invalid\n",
        "\n",
        "# Example usage\n",
        "nested_list = [[1, 2, 3], [4, 5, 6], [7, 8, 9]]\n",
        "result = access_nested_element(nested_list, [1, 2])\n",
        "print(result)\n"
      ]
    },
    {
      "cell_type": "code",
      "execution_count": 15,
      "id": "48d973ce-7534-41be-86a1-9de405641b98",
      "metadata": {
        "colab": {
          "base_uri": "https://localhost:8080/"
        },
        "id": "48d973ce-7534-41be-86a1-9de405641b98",
        "outputId": "6b52a410-8651-4e58-aee1-e3918bccb2ea"
      },
      "outputs": [
        {
          "output_type": "stream",
          "name": "stdout",
          "text": [
            "21\n"
          ]
        }
      ],
      "source": [
        "def sum_nested(lst):\n",
        "    total = 0\n",
        "    for element in lst:\n",
        "        if isinstance(element, list):\n",
        "            total += sum_nested(element)\n",
        "        else:\n",
        "            total += element\n",
        "    return total\n",
        "\n",
        "# Example usage\n",
        "nested_list = [[1, 2], [3, [4, 5]], 6]\n",
        "result = sum_nested(nested_list)\n",
        "print(result)  # Output will be 21\n"
      ]
    },
    {
      "cell_type": "code",
      "execution_count": 16,
      "id": "73e3371b-5847-4ea8-9298-30ca987feff2",
      "metadata": {
        "colab": {
          "base_uri": "https://localhost:8080/"
        },
        "id": "73e3371b-5847-4ea8-9298-30ca987feff2",
        "outputId": "cb232d52-7722-4d3b-9199-53c69460bc30"
      },
      "outputs": [
        {
          "output_type": "stream",
          "name": "stdout",
          "text": [
            "[[1], [3], [4, 5]]\n"
          ]
        }
      ],
      "source": [
        "def remove_element(lst, elem):\n",
        "    result = []  # Initialize an empty list to store the filtered elements\n",
        "    for item in lst:\n",
        "        if isinstance(item, list):  # If the item is a sublist, we process it recursively\n",
        "            new_sublist = remove_element(item, elem)  # Call the function recursively on the sublist\n",
        "            result.append(new_sublist)  # Append the processed sublist to the result\n",
        "        elif item != elem:  # If the current item is not equal to the element to be removed, add it to the result\n",
        "            result.append(item)\n",
        "    return result  # Return the modified list after all elements are processed\n",
        "\n",
        "# Example usage\n",
        "nested_list = [[1, 2], [3, 2], [4, 5]]\n",
        "result = remove_element(nested_list, 2)  # Remove all occurrences of 2\n",
        "print(result)  # Output will be [[1], [3], [4, 5]]\n"
      ]
    },
    {
      "cell_type": "code",
      "execution_count": 17,
      "id": "a9d4eef4-bdd9-424b-b064-bd8b877befff",
      "metadata": {
        "colab": {
          "base_uri": "https://localhost:8080/"
        },
        "id": "a9d4eef4-bdd9-424b-b064-bd8b877befff",
        "outputId": "c26586da-9241-4267-fd31-07a97405da5d"
      },
      "outputs": [
        {
          "output_type": "stream",
          "name": "stdout",
          "text": [
            "6\n"
          ]
        }
      ],
      "source": [
        "def find_max(lst):\n",
        "    max_value = float('-inf')  # Start with a very small value (negative infinity) to ensure any number is larger\n",
        "\n",
        "    for item in lst:\n",
        "        if isinstance(item, list):  # If the item is a sublist, we process it recursively\n",
        "            max_value = max(max_value, find_max(item))  # Compare the current max with the max from the sublist\n",
        "        else:  # If the item is a number, just compare it with the current max_value\n",
        "            max_value = max(max_value, item)\n",
        "\n",
        "    return max_value  # Return the maximum value found\n",
        "\n",
        "# Example usage\n",
        "nested_list = [[1, 2], [3, [4, 5]], 6]\n",
        "result = find_max(nested_list)  # Find the maximum value in the nested list\n",
        "print(result)  # Output will be 6\n"
      ]
    },
    {
      "cell_type": "code",
      "execution_count": 18,
      "id": "ca7f42dd-b98a-45e0-9bae-d41d4e77797e",
      "metadata": {
        "colab": {
          "base_uri": "https://localhost:8080/"
        },
        "id": "ca7f42dd-b98a-45e0-9bae-d41d4e77797e",
        "outputId": "8100661f-95b1-4791-fb48-8167bba58c65"
      },
      "outputs": [
        {
          "output_type": "stream",
          "name": "stdout",
          "text": [
            "3\n"
          ]
        }
      ],
      "source": [
        "def count_occurrences(lst, elem):\n",
        "    count = 0  # Start with a count of zero\n",
        "\n",
        "    for item in lst:\n",
        "        if isinstance(item, list):  # If the item is a sublist, we process it recursively\n",
        "            count += count_occurrences(item, elem)  # Add the count from the sublist\n",
        "        elif item == elem:  # If the item matches the element we're counting\n",
        "            count += 1  # Increase the count\n",
        "\n",
        "    return count  # Return the total count\n",
        "\n",
        "# Example usage\n",
        "nested_list = [[1, 2], [2, 3], [2, 4]]\n",
        "result = count_occurrences(nested_list, 2)  # Count how many times 2 appears\n",
        "print(result)  # Output will be 3\n"
      ]
    },
    {
      "cell_type": "code",
      "execution_count": 19,
      "id": "fce5619a-3767-491d-8a37-27488bb091d4",
      "metadata": {
        "colab": {
          "base_uri": "https://localhost:8080/"
        },
        "id": "fce5619a-3767-491d-8a37-27488bb091d4",
        "outputId": "974d5a21-8523-46c3-a296-1eee84aae614"
      },
      "outputs": [
        {
          "output_type": "stream",
          "name": "stdout",
          "text": [
            "[1, 2, 3, 4, 5, 6, 7, 8]\n"
          ]
        }
      ],
      "source": [
        "def deep_flatten(lst):\n",
        "    flattened_list = []  # Initialize an empty list to store the flattened items\n",
        "\n",
        "    for item in lst:\n",
        "        if isinstance(item, list):  # If the item is a sublist, we process it recursively\n",
        "            flattened_list.extend(deep_flatten(item))  # Add all items from the sublist to the flattened list\n",
        "        else:  # If the item is not a list, simply add it to the flattened list\n",
        "            flattened_list.append(item)\n",
        "\n",
        "    return flattened_list  # Return the fully flattened list\n",
        "\n",
        "# Example usage\n",
        "nested_list = [[[1, 2], [3, 4]], [[5, 6], [7, 8]]]\n",
        "result = deep_flatten(nested_list)  # Flatten the deeply nested list\n",
        "print(result)  # Output will be [1, 2, 3, 4, 5, 6, 7, 8]\n"
      ]
    },
    {
      "cell_type": "code",
      "execution_count": 20,
      "id": "3ceb1f04-feab-4c51-81f3-2f2f0a32ad52",
      "metadata": {
        "colab": {
          "base_uri": "https://localhost:8080/"
        },
        "id": "3ceb1f04-feab-4c51-81f3-2f2f0a32ad52",
        "outputId": "493c2868-f493-4dbc-d3e6-e139c25f2670"
      },
      "outputs": [
        {
          "output_type": "stream",
          "name": "stdout",
          "text": [
            "3.5\n"
          ]
        }
      ],
      "source": [
        "def average_nested(lst):\n",
        "    def flatten_and_sum(lst):\n",
        "        total_sum = 0  # Initialize the total sum of elements\n",
        "        count = 0  # Initialize the count of elements\n",
        "\n",
        "        for item in lst:\n",
        "            if isinstance(item, list):  # If the item is a sublist, process it recursively\n",
        "                sub_sum, sub_count = flatten_and_sum(item)  # Get the sum and count from the sublist\n",
        "                total_sum += sub_sum  # Add the sum of the sublist to the total sum\n",
        "                count += sub_count  # Add the count of the sublist to the total count\n",
        "            else:\n",
        "                total_sum += item  # If it's a number, add it to the sum\n",
        "                count += 1  # Increase the count by 1\n",
        "\n",
        "        return total_sum, count  # Return the total sum and count of elements\n",
        "\n",
        "    total, count = flatten_and_sum(lst)  # Get the total sum and count from the entire list\n",
        "    return total / count if count > 0 else 0  # Calculate and return the average, avoid division by zero\n",
        "\n",
        "# Example usage\n",
        "nested_list = [[1, 2], [3, 4], [5, 6]]\n",
        "result = average_nested(nested_list)  # Calculate the average of the nested list\n",
        "print(result)  # Output will be 3.5\n"
      ]
    },
    {
      "cell_type": "code",
      "execution_count": 21,
      "id": "69da6946-dbd4-4f53-aafe-1509bff563fd",
      "metadata": {
        "colab": {
          "base_uri": "https://localhost:8080/"
        },
        "id": "69da6946-dbd4-4f53-aafe-1509bff563fd",
        "outputId": "42ec24e5-8ca9-4414-913e-a2b95b269677"
      },
      "outputs": [
        {
          "output_type": "stream",
          "name": "stdout",
          "text": [
            "Empty Array (2x2):\n",
            " [[3.18746694e-316 0.00000000e+000]\n",
            " [9.88131292e-324             nan]]\n",
            "\n",
            "All Ones Array (4x2):\n",
            " [[1. 1.]\n",
            " [1. 1.]\n",
            " [1. 1.]\n",
            " [1. 1.]]\n",
            "\n",
            "Array Filled with 7 (3x3):\n",
            " [[7 7 7]\n",
            " [7 7 7]\n",
            " [7 7 7]]\n",
            "\n",
            "Zeros Array with Same Shape as Reference:\n",
            " [[0 0 0]\n",
            " [0 0 0]]\n",
            "\n",
            "Ones Array with Same Shape as Reference:\n",
            " [[1 1 1]\n",
            " [1 1 1]]\n",
            "\n",
            "Converted NumPy Array:\n",
            " [1 2 3 4]\n"
          ]
        }
      ],
      "source": [
        "import numpy as np\n",
        "\n",
        "def create_empty_array():\n",
        "    # Creates a 2x2 uninitialized (empty) NumPy array\n",
        "    return np.empty((2, 2))\n",
        "\n",
        "def create_ones_array():\n",
        "    # Creates a 4x2 NumPy array filled with ones\n",
        "    return np.ones((4, 2))\n",
        "\n",
        "def create_filled_array(shape, value):\n",
        "    # Creates a NumPy array of a specified shape, filled with a given value\n",
        "    return np.full(shape, value)\n",
        "\n",
        "def create_zeros_like(reference_array):\n",
        "    # Creates a NumPy array of zeros with the same shape and type as the given reference array\n",
        "    return np.zeros_like(reference_array)\n",
        "\n",
        "def create_ones_like(reference_array):\n",
        "    # Creates a NumPy array of ones with the same shape and type as the given reference array\n",
        "    return np.ones_like(reference_array)\n",
        "\n",
        "def convert_list_to_numpy(new_list):\n",
        "    # Converts a Python list into a NumPy array\n",
        "    return np.array(new_list)\n",
        "\n",
        "# Example Usage\n",
        "empty_array = create_empty_array()\n",
        "print(\"Empty Array (2x2):\\n\", empty_array)  # Print the empty 2x2 array\n",
        "\n",
        "ones_array = create_ones_array()\n",
        "print(\"\\nAll Ones Array (4x2):\\n\", ones_array)  # Print a 4x2 array filled with ones\n",
        "\n",
        "filled_array = create_filled_array((3, 3), 7)  # Example: Filling a 3x3 array with 7\n",
        "print(\"\\nArray Filled with 7 (3x3):\\n\", filled_array)  # Print a 3x3 array filled with 7\n",
        "\n",
        "# Create a reference array for comparison\n",
        "reference_array = np.array([[5, 6, 7], [8, 9, 10]])\n",
        "\n",
        "zeros_like_array = create_zeros_like(reference_array)\n",
        "print(\"\\nZeros Array with Same Shape as Reference:\\n\", zeros_like_array)  # Print a zero-filled array with the same shape as reference\n",
        "\n",
        "ones_like_array = create_ones_like(reference_array)\n",
        "print(\"\\nOnes Array with Same Shape as Reference:\\n\", ones_like_array)  # Print a ones-filled array with the same shape as reference\n",
        "\n",
        "new_list = [1, 2, 3, 4]  # A sample Python list\n",
        "numpy_array = convert_list_to_numpy(new_list)\n",
        "print(\"\\nConverted NumPy Array:\\n\", numpy_array)  # Print the NumPy array created from the list\n"
      ]
    },
    {
      "cell_type": "code",
      "execution_count": 22,
      "id": "63fd5980-b8b5-4ae9-aafc-9022c70f47e5",
      "metadata": {
        "colab": {
          "base_uri": "https://localhost:8080/"
        },
        "id": "63fd5980-b8b5-4ae9-aafc-9022c70f47e5",
        "outputId": "0ff760b9-cf54-487b-98c5-3bc160066a72"
      },
      "outputs": [
        {
          "output_type": "stream",
          "name": "stdout",
          "text": [
            "Array with values from 10 to 49:\n",
            " [10 11 12 13 14 15 16 17 18 19 20 21 22 23 24 25 26 27 28 29 30 31 32 33\n",
            " 34 35 36 37 38 39 40 41 42 43 44 45 46 47 48 49]\n",
            "\n",
            "3x3 Matrix with values 0 to 8:\n",
            " [[0 1 2]\n",
            " [3 4 5]\n",
            " [6 7 8]]\n",
            "\n",
            "3x3 Identity Matrix:\n",
            " [[1. 0. 0.]\n",
            " [0. 1. 0.]\n",
            " [0. 0. 1.]]\n",
            "\n",
            "Random Array of Size 30:\n",
            " [0.01333648 0.26059319 0.59688882 0.58026702 0.7262361  0.97031148\n",
            " 0.55308213 0.34032373 0.66362183 0.2846089  0.08540317 0.1942923\n",
            " 0.92112599 0.7086513  0.18833402 0.72355686 0.3276765  0.1307434\n",
            " 0.70898455 0.01908997 0.29768543 0.46098867 0.21631813 0.37812149\n",
            " 0.04263607 0.53627301 0.16925032 0.07557906 0.52568875 0.36332303]\n",
            "Mean Value: 0.4020997240357179\n",
            "\n",
            "10x10 Random Matrix:\n",
            " [[0.75095851 0.64723479 0.03930894 0.6194913  0.17759121 0.15474742\n",
            "  0.03597584 0.40573467 0.32619309 0.02910749]\n",
            " [0.65142514 0.15914433 0.20023191 0.76569612 0.57088622 0.89148518\n",
            "  0.56365959 0.06455217 0.67728791 0.99710714]\n",
            " [0.10862749 0.41923195 0.27167851 0.2867035  0.21394342 0.14773518\n",
            "  0.47675677 0.71531447 0.57376833 0.74442547]\n",
            " [0.42719634 0.80393    0.01123912 0.43705632 0.7515779  0.65720246\n",
            "  0.80068662 0.29688092 0.15171969 0.80872881]\n",
            " [0.91469271 0.61961088 0.93846678 0.59505463 0.88873397 0.87011574\n",
            "  0.17492298 0.44609157 0.52338412 0.10808302]\n",
            " [0.86120604 0.39469194 0.51153721 0.89855869 0.46087462 0.5830944\n",
            "  0.18394917 0.30907657 0.75673487 0.34275391]\n",
            " [0.84642028 0.79350427 0.84262068 0.14071823 0.19705903 0.26363779\n",
            "  0.00789334 0.4007419  0.21338534 0.79675956]\n",
            " [0.41319603 0.52628097 0.34373235 0.20263992 0.7103185  0.97876186\n",
            "  0.58424863 0.15041233 0.09345531 0.57288335]\n",
            " [0.43445134 0.10813374 0.20887758 0.14200494 0.92469719 0.68779887\n",
            "  0.7282669  0.38319674 0.04746806 0.15916134]\n",
            " [0.04309097 0.40305316 0.76582149 0.7849963  0.86786362 0.99484998\n",
            "  0.88338282 0.77859099 0.63648261 0.05454345]]\n",
            "Minimum Value: 0.007893336794992045\n",
            "Maximum Value: 0.9971071426112855\n",
            "\n",
            "Zero Array with 5th Element as 1:\n",
            " [0. 0. 0. 0. 1. 0. 0. 0. 0. 0.]\n",
            "\n",
            "Reversed Array:\n",
            " [0 4 0 0 2 1]\n",
            "\n",
            "2D Array with Border 1s and Inside 0s:\n",
            " [[1. 1. 1. 1. 1.]\n",
            " [1. 0. 0. 0. 1.]\n",
            " [1. 0. 0. 0. 1.]\n",
            " [1. 0. 0. 0. 1.]\n",
            " [1. 1. 1. 1. 1.]]\n",
            "\n",
            "8x8 Checkerboard Pattern:\n",
            " [[0 1 0 1 0 1 0 1]\n",
            " [1 0 1 0 1 0 1 0]\n",
            " [0 1 0 1 0 1 0 1]\n",
            " [1 0 1 0 1 0 1 0]\n",
            " [0 1 0 1 0 1 0 1]\n",
            " [1 0 1 0 1 0 1 0]\n",
            " [0 1 0 1 0 1 0 1]\n",
            " [1 0 1 0 1 0 1 0]]\n"
          ]
        }
      ],
      "source": [
        "import numpy as np\n",
        "\n",
        "def create_range_array():\n",
        "    # Creates an array with values ranging from 10 to 49\n",
        "    return np.arange(10, 50)\n",
        "\n",
        "def create_3x3_matrix():\n",
        "    # Creates a 3x3 matrix with values ranging from 0 to 8\n",
        "    return np.arange(9).reshape(3, 3)\n",
        "\n",
        "def create_identity_matrix():\n",
        "    # Creates a 3x3 identity matrix (diagonal elements are 1, others are 0)\n",
        "    return np.eye(3)\n",
        "\n",
        "def create_random_array_mean():\n",
        "    # Creates a random array of size 30 and calculates its mean value\n",
        "    random_array = np.random.random(30)  # Generate random values between 0 and 1\n",
        "    mean_value = random_array.mean()  # Calculate the mean of the array\n",
        "    return random_array, mean_value\n",
        "\n",
        "def create_10x10_random_min_max():\n",
        "    # Creates a 10x10 matrix with random values and calculates its min and max values\n",
        "    random_matrix = np.random.random((10, 10))  # Generate a 10x10 matrix of random values\n",
        "    min_value = random_matrix.min()  # Find the minimum value in the matrix\n",
        "    max_value = random_matrix.max()  # Find the maximum value in the matrix\n",
        "    return random_matrix, min_value, max_value\n",
        "\n",
        "def replace_fifth_element():\n",
        "    # Creates a zero array of size 10 and replaces the 5th element (index 4) with 1\n",
        "    arr = np.zeros(10)  # Create an array of zeros of length 10\n",
        "    arr[4] = 1  # Replace the 5th element (index 4) with 1\n",
        "    return arr\n",
        "\n",
        "def reverse_array():\n",
        "    # Reverses the given array\n",
        "    arr = np.array([1, 2, 0, 0, 4, 0])  # Create an example array\n",
        "    return arr[::-1]  # Reverse the array using slicing\n",
        "\n",
        "def create_border_array():\n",
        "    # Creates a 5x5 array with 1s on the border and 0s in the middle\n",
        "    arr = np.ones((5, 5))  # Create a 5x5 array filled with ones\n",
        "    arr[1:-1, 1:-1] = 0  # Set the inner elements (excluding the border) to 0\n",
        "    return arr\n",
        "\n",
        "def create_checkerboard_pattern():\n",
        "    # Creates an 8x8 matrix and fills it with a checkerboard pattern\n",
        "    checkerboard = np.zeros((8, 8), dtype=int)  # Create an 8x8 matrix of zeros\n",
        "    checkerboard[1::2, ::2] = 1  # Fill alternating rows with 1s (even rows, odd columns)\n",
        "    checkerboard[::2, 1::2] = 1  # Fill alternating columns with 1s (odd rows, even columns)\n",
        "    return checkerboard\n",
        "\n",
        "# Example Usage\n",
        "print(\"Array with values from 10 to 49:\\n\", create_range_array())\n",
        "\n",
        "print(\"\\n3x3 Matrix with values 0 to 8:\\n\", create_3x3_matrix())\n",
        "\n",
        "print(\"\\n3x3 Identity Matrix:\\n\", create_identity_matrix())\n",
        "\n",
        "random_array, mean_value = create_random_array_mean()\n",
        "print(\"\\nRandom Array of Size 30:\\n\", random_array)\n",
        "print(\"Mean Value:\", mean_value)\n",
        "\n",
        "random_matrix, min_value, max_value = create_10x10_random_min_max()\n",
        "print(\"\\n10x10 Random Matrix:\\n\", random_matrix)\n",
        "print(\"Minimum Value:\", min_value)\n",
        "print(\"Maximum Value:\", max_value)\n",
        "\n",
        "print(\"\\nZero Array with 5th Element as 1:\\n\", replace_fifth_element())\n",
        "\n",
        "print(\"\\nReversed Array:\\n\", reverse_array())\n",
        "\n",
        "print(\"\\n2D Array with Border 1s and Inside 0s:\\n\", create_border_array())\n",
        "\n",
        "print(\"\\n8x8 Checkerboard Pattern:\\n\", create_checkerboard_pattern())\n"
      ]
    },
    {
      "cell_type": "code",
      "execution_count": 24,
      "id": "8edb64b4-6c43-4c8a-a325-284df255a561",
      "metadata": {
        "colab": {
          "base_uri": "https://localhost:8080/"
        },
        "id": "8edb64b4-6c43-4c8a-a325-284df255a561",
        "outputId": "2f246456-ed69-4fda-e302-f5087b9bd475"
      },
      "outputs": [
        {
          "output_type": "stream",
          "name": "stdout",
          "text": [
            "Addition of x and y:\n",
            " [[ 6  8]\n",
            " [10 13]]\n",
            "\n",
            "Subtraction of x and y:\n",
            " [[-4 -4]\n",
            " [-4 -3]]\n",
            "\n",
            "Multiplying x by 2:\n",
            " [[ 2  4]\n",
            " [ 6 10]]\n",
            "\n",
            "Square of each element in x:\n",
            " [[ 1  4]\n",
            " [ 9 25]]\n",
            "\n",
            "Dot product between v and w: 219\n",
            "\n",
            "Dot product between x and v:\n",
            " [29 77]\n",
            "\n",
            "Dot product between x and y:\n",
            " [[19 22]\n",
            " [50 58]]\n",
            "\n",
            "Concatenating x and y along row:\n",
            " [[1 2]\n",
            " [3 5]\n",
            " [5 6]\n",
            " [7 8]]\n",
            "\n",
            "Concatenating v and w along column:\n",
            " [[ 9 11]\n",
            " [10 12]]\n",
            "\n",
            "Error when trying to concatenate x and v: all the input arrays must have same number of dimensions, but the array at index 0 has 2 dimension(s) and the array at index 1 has 1 dimension(s)\n"
          ]
        }
      ],
      "source": [
        "import numpy as np\n",
        "\n",
        "# Define the arrays\n",
        "x = np.array([[1, 2], [3, 5]])  # A 2x2 array\n",
        "y = np.array([[5, 6], [7, 8]])  # Another 2x2 array\n",
        "v = np.array([9, 10])  # A 1D array of size 2\n",
        "w = np.array([11, 12])  # Another 1D array of size 2\n",
        "\n",
        "# 1. Add the two arrays\n",
        "def add_arrays(x, y):\n",
        "    \"\"\"\n",
        "    Adds two 2D numpy arrays element-wise.\n",
        "\n",
        "    Args:\n",
        "    x (numpy.ndarray): First 2D array.\n",
        "    y (numpy.ndarray): Second 2D array.\n",
        "\n",
        "    Returns:\n",
        "    numpy.ndarray: Resultant array from element-wise addition of x and y.\n",
        "    \"\"\"\n",
        "    return x + y  # Add corresponding elements of x and y\n",
        "\n",
        "add_result = add_arrays(x, y)\n",
        "print(\"Addition of x and y:\\n\", add_result)\n",
        "\n",
        "# 2. Subtract the two arrays\n",
        "def subtract_arrays(x, y):\n",
        "    \"\"\"\n",
        "    Subtracts the second array (y) from the first array (x) element-wise.\n",
        "\n",
        "    Args:\n",
        "    x (numpy.ndarray): First 2D array.\n",
        "    y (numpy.ndarray): Second 2D array.\n",
        "\n",
        "    Returns:\n",
        "    numpy.ndarray: Resultant array from element-wise subtraction of x and y.\n",
        "    \"\"\"\n",
        "    return x - y  # Subtract corresponding elements of y from x\n",
        "\n",
        "sub_result = subtract_arrays(x, y)\n",
        "print(\"\\nSubtraction of x and y:\\n\", sub_result)\n",
        "\n",
        "# 3. Multiply the array with any integers of your choice (let's use 2 for demonstration)\n",
        "def multiply_array(x, scalar):\n",
        "    \"\"\"\n",
        "    Multiplies each element of the 2D numpy array x by a scalar value.\n",
        "\n",
        "    Args:\n",
        "    x (numpy.ndarray): A 2D numpy array.\n",
        "    scalar (int): Scalar value to multiply each element of the array by.\n",
        "\n",
        "    Returns:\n",
        "    numpy.ndarray: A new numpy array with elements multiplied by scalar.\n",
        "    \"\"\"\n",
        "    return x * scalar  # Multiply each element of x by scalar\n",
        "\n",
        "mul_result = multiply_array(x, 2)\n",
        "print(\"\\nMultiplying x by 2:\\n\", mul_result)\n",
        "\n",
        "# 4. Find the square of each element of the array\n",
        "def square_elements(x):\n",
        "    \"\"\"\n",
        "    Computes the square of each element in the 2D numpy array x.\n",
        "\n",
        "    Args:\n",
        "    x (numpy.ndarray): A 2D numpy array.\n",
        "\n",
        "    Returns:\n",
        "    numpy.ndarray: A new array with each element squared.\n",
        "    \"\"\"\n",
        "    return np.square(x)  # Square each element of x\n",
        "\n",
        "square_result = square_elements(x)\n",
        "print(\"\\nSquare of each element in x:\\n\", square_result)\n",
        "\n",
        "# 5. Find the dot product between: v and w, x and v, x and y\n",
        "def dot_product(a, b):\n",
        "    \"\"\"\n",
        "    Computes the dot product between two numpy arrays.\n",
        "\n",
        "    Args:\n",
        "    a (numpy.ndarray): First array.\n",
        "    b (numpy.ndarray): Second array.\n",
        "\n",
        "    Returns:\n",
        "    int or numpy.ndarray: Dot product of a and b.\n",
        "    \"\"\"\n",
        "    return np.dot(a, b)  # Compute the dot product of a and b\n",
        "\n",
        "# v and w (1D arrays)\n",
        "dot_vw = dot_product(v, w)\n",
        "print(\"\\nDot product between v and w:\", dot_vw)\n",
        "\n",
        "# x and v (2D and 1D arrays)\n",
        "dot_xv = dot_product(x, v)\n",
        "print(\"\\nDot product between x and v:\\n\", dot_xv)\n",
        "\n",
        "# x and y (2D arrays)\n",
        "dot_xy = dot_product(x, y)\n",
        "print(\"\\nDot product between x and y:\\n\", dot_xy)\n",
        "\n",
        "# 6. Concatenate x and y along row (axis=0), and v and w along columns (axis=1)\n",
        "def concatenate_arrays(x, y, axis):\n",
        "    \"\"\"\n",
        "    Concatenates two numpy arrays along the specified axis.\n",
        "\n",
        "    Args:\n",
        "    x (numpy.ndarray): First array.\n",
        "    y (numpy.ndarray): Second array.\n",
        "    axis (int): Axis along which to concatenate (0 for rows, 1 for columns).\n",
        "\n",
        "    Returns:\n",
        "    numpy.ndarray: Concatenated array.\n",
        "    \"\"\"\n",
        "    return np.concatenate((x, y), axis=axis)  # Concatenate x and y along the given axis\n",
        "\n",
        "# Concatenate x and y along row (axis=0)\n",
        "concat_xy_row = concatenate_arrays(x, y, axis=0)\n",
        "print(\"\\nConcatenating x and y along row:\\n\", concat_xy_row)\n",
        "\n",
        "# Concatenate v and w along column (axis=1) - reshaping v and w to be 2D\n",
        "concat_vw_col = np.concatenate((v.reshape(-1, 1), w.reshape(-1, 1)), axis=1)\n",
        "print(\"\\nConcatenating v and w along column:\\n\", concat_vw_col)\n",
        "\n",
        "# 7. Concatenate x and v (observe and explain the error)\n",
        "def try_concatenate_x_and_v(x, v):\n",
        "    \"\"\"\n",
        "    Tries to concatenate x (2D array) and v (1D array) along columns (axis=1).\n",
        "    If it fails, the error is caught and returned.\n",
        "\n",
        "    Args:\n",
        "    x (numpy.ndarray): A 2D numpy array.\n",
        "    v (numpy.ndarray): A 1D numpy array.\n",
        "\n",
        "    Returns:\n",
        "    str: Error message if concatenation fails.\n",
        "    \"\"\"\n",
        "    try:\n",
        "        # Attempting to concatenate x and v along columns (axis=1)\n",
        "        return np.concatenate((x, v), axis=1)\n",
        "    except Exception as e:\n",
        "        return str(e)  # Return the error message if it fails\n",
        "\n",
        "# Trying to concatenate x and v\n",
        "error_message = try_concatenate_x_and_v(x, v)\n",
        "print(\"\\nError when trying to concatenate x and v:\", error_message)\n"
      ]
    },
    {
      "cell_type": "code",
      "execution_count": 25,
      "id": "0a158612-fae2-4142-b5ae-d8c09b381428",
      "metadata": {
        "colab": {
          "base_uri": "https://localhost:8080/"
        },
        "id": "0a158612-fae2-4142-b5ae-d8c09b381428",
        "outputId": "11cb6231-5e63-4003-aa5a-ba9d752b5330"
      },
      "outputs": [
        {
          "output_type": "stream",
          "name": "stdout",
          "text": [
            "A * A⁻¹ (Identity Matrix):\n",
            " [[1.00000000e+00 0.00000000e+00]\n",
            " [1.77635684e-15 1.00000000e+00]]\n",
            "\n",
            "AB = \n",
            " [[23 13]\n",
            " [51 29]]\n",
            "BA = \n",
            " [[36 44]\n",
            " [13 16]]\n",
            "\n",
            "AB ≠ BA:  True\n",
            "\n",
            "(AB)ᵀ = \n",
            " [[23 51]\n",
            " [13 29]]\n",
            "BᵀAᵀ = \n",
            " [[23 51]\n",
            " [13 29]]\n",
            "\n",
            "(AB)ᵀ = BᵀAᵀ:  True\n",
            "\n",
            "Solution for the system of equations (using inverse method): [ 2.  1. -2.]\n",
            "\n",
            "Solution using np.linalg.solve: [ 2.  1. -2.]\n"
          ]
        }
      ],
      "source": [
        "import numpy as np\n",
        "\n",
        "# Define the arrays\n",
        "A = np.array([[3, 4], [7, 8]])  # 2x2 matrix A\n",
        "B = np.array([[5, 3], [2, 1]])  # 2x2 matrix B\n",
        "\n",
        "# 1. Prove A.A⁻¹ = I (Identity Matrix)\n",
        "def prove_identity(A):\n",
        "    \"\"\"\n",
        "    Proves that A * A⁻¹ = Identity matrix.\n",
        "\n",
        "    Args:\n",
        "    A (numpy.ndarray): A square matrix.\n",
        "\n",
        "    Returns:\n",
        "    numpy.ndarray: Identity matrix.\n",
        "    \"\"\"\n",
        "    A_inv = np.linalg.inv(A)  # Inverse of A\n",
        "    I = np.dot(A, A_inv)  # Matrix multiplication of A and A⁻¹\n",
        "    return I\n",
        "\n",
        "identity_matrix = prove_identity(A)\n",
        "print(\"A * A⁻¹ (Identity Matrix):\\n\", identity_matrix)\n",
        "\n",
        "# 2. Prove AB ≠ BA (Matrix multiplication is not commutative)\n",
        "def prove_non_commutative(A, B):\n",
        "    \"\"\"\n",
        "    Proves that AB ≠ BA.\n",
        "\n",
        "    Args:\n",
        "    A (numpy.ndarray): Matrix A.\n",
        "    B (numpy.ndarray): Matrix B.\n",
        "\n",
        "    Returns:\n",
        "    tuple: AB and BA results.\n",
        "    \"\"\"\n",
        "    AB = np.dot(A, B)\n",
        "    BA = np.dot(B, A)\n",
        "    return AB, BA\n",
        "\n",
        "AB, BA = prove_non_commutative(A, B)\n",
        "print(\"\\nAB = \\n\", AB)\n",
        "print(\"BA = \\n\", BA)\n",
        "print(\"\\nAB ≠ BA: \", not np.array_equal(AB, BA))\n",
        "\n",
        "# 3. Prove (AB)ᵀ = BᵀAᵀ (Transpose of a product)\n",
        "def prove_transpose_product(A, B):\n",
        "    \"\"\"\n",
        "    Proves that (AB)ᵀ = BᵀAᵀ.\n",
        "\n",
        "    Args:\n",
        "    A (numpy.ndarray): Matrix A.\n",
        "    B (numpy.ndarray): Matrix B.\n",
        "\n",
        "    Returns:\n",
        "    tuple: (AB)ᵀ and BᵀAᵀ results.\n",
        "    \"\"\"\n",
        "    AB_transpose = np.transpose(np.dot(A, B))\n",
        "    B_transpose_A_transpose = np.dot(np.transpose(B), np.transpose(A))\n",
        "    return AB_transpose, B_transpose_A_transpose\n",
        "\n",
        "AB_transpose, B_transpose_A_transpose = prove_transpose_product(A, B)\n",
        "print(\"\\n(AB)ᵀ = \\n\", AB_transpose)\n",
        "print(\"BᵀAᵀ = \\n\", B_transpose_A_transpose)\n",
        "print(\"\\n(AB)ᵀ = BᵀAᵀ: \", np.array_equal(AB_transpose, B_transpose_A_transpose))\n",
        "\n",
        "# 4. Solve the system of linear equations using Inverse Method\n",
        "# System of equations:\n",
        "# 2x - 3y + z = -1\n",
        "# x - y + 2z = -3\n",
        "# 3x + y - z = 9\n",
        "\n",
        "# Represent the system in matrix form: AX = B\n",
        "A_matrix = np.array([[2, -3, 1], [1, -1, 2], [3, 1, -1]])  # Coefficient matrix A\n",
        "B_matrix = np.array([-1, -3, 9])  # Constants vector B\n",
        "\n",
        "# Solve for X using inverse method: X = A⁻¹ * B\n",
        "def solve_linear_system(A_matrix, B_matrix):\n",
        "    \"\"\"\n",
        "    Solves the linear system of equations using inverse method.\n",
        "\n",
        "    Args:\n",
        "    A_matrix (numpy.ndarray): Coefficient matrix.\n",
        "    B_matrix (numpy.ndarray): Constants vector.\n",
        "\n",
        "    Returns:\n",
        "    numpy.ndarray: Solution vector X (values for x, y, z).\n",
        "    \"\"\"\n",
        "    A_inv = np.linalg.inv(A_matrix)  # Inverse of matrix A\n",
        "    X = np.dot(A_inv, B_matrix)  # Solving for X\n",
        "    return X\n",
        "\n",
        "solution = solve_linear_system(A_matrix, B_matrix)\n",
        "print(\"\\nSolution for the system of equations (using inverse method):\", solution)\n",
        "\n",
        "# 5. Solve the system of linear equations using np.linalg.inv function directly\n",
        "def solve_using_linalg(A_matrix, B_matrix):\n",
        "    \"\"\"\n",
        "    Solves the linear system of equations using np.linalg.inv directly.\n",
        "\n",
        "    Args:\n",
        "    A_matrix (numpy.ndarray): Coefficient matrix.\n",
        "    B_matrix (numpy.ndarray): Constants vector.\n",
        "\n",
        "    Returns:\n",
        "    numpy.ndarray: Solution vector X.\n",
        "    \"\"\"\n",
        "    X_linalg = np.linalg.solve(A_matrix, B_matrix)  # Using np.linalg.solve to solve AX = B\n",
        "    return X_linalg\n",
        "\n",
        "solution_linalg = solve_using_linalg(A_matrix, B_matrix)\n",
        "print(\"\\nSolution using np.linalg.solve:\", solution_linalg)\n"
      ]
    },
    {
      "cell_type": "code",
      "execution_count": null,
      "id": "df987823-afc7-4736-8f14-ab3e7a3b7c8c",
      "metadata": {
        "id": "df987823-afc7-4736-8f14-ab3e7a3b7c8c",
        "outputId": "8f9ca067-4649-47f3-f9c3-b399c7b90897"
      },
      "outputs": [
        {
          "name": "stdout",
          "output_type": "stream",
          "text": [
            "A * A⁻¹ (Identity Matrix):\n",
            " [[1.0000000e+00 4.4408921e-16]\n",
            " [0.0000000e+00 1.0000000e+00]]\n",
            "\n",
            "AB = \n",
            " [[23 13]\n",
            " [51 29]]\n",
            "BA = \n",
            " [[36 44]\n",
            " [13 16]]\n",
            "\n",
            "AB ≠ BA:  True\n",
            "\n",
            "(AB)ᵀ = \n",
            " [[23 51]\n",
            " [13 29]]\n",
            "BᵀAᵀ = \n",
            " [[23 51]\n",
            " [13 29]]\n",
            "\n",
            "(AB)ᵀ = BᵀAᵀ:  True\n",
            "\n",
            "Solution for the system of equations (using inverse method): [ 2.  1. -2.]\n",
            "\n",
            "Solution using np.linalg.solve: [ 2.  1. -2.]\n"
          ]
        }
      ],
      "source": [
        "import numpy as np\n",
        "\n",
        "# Define the arrays\n",
        "A = np.array([[3, 4], [7, 8]])  # 2x2 matrix A\n",
        "B = np.array([[5, 3], [2, 1]])  # 2x2 matrix B\n",
        "\n",
        "# 1. Prove A.A⁻¹ = I (Identity Matrix)\n",
        "def prove_identity(A):\n",
        "    \"\"\"\n",
        "    Proves that A * A⁻¹ = Identity matrix.\n",
        "\n",
        "    Args:\n",
        "    A (numpy.ndarray): A square matrix.\n",
        "\n",
        "    Returns:\n",
        "    numpy.ndarray: Identity matrix.\n",
        "    \"\"\"\n",
        "    A_inv = np.linalg.inv(A)  # Inverse of A\n",
        "    I = np.dot(A, A_inv)  # Matrix multiplication of A and A⁻¹\n",
        "    return I\n",
        "\n",
        "identity_matrix = prove_identity(A)\n",
        "print(\"A * A⁻¹ (Identity Matrix):\\n\", identity_matrix)\n",
        "\n",
        "# 2. Prove AB ≠ BA (Matrix multiplication is not commutative)\n",
        "def prove_non_commutative(A, B):\n",
        "    \"\"\"\n",
        "    Proves that AB ≠ BA.\n",
        "\n",
        "    Args:\n",
        "    A (numpy.ndarray): Matrix A.\n",
        "    B (numpy.ndarray): Matrix B.\n",
        "\n",
        "    Returns:\n",
        "    tuple: AB and BA results.\n",
        "    \"\"\"\n",
        "    AB = np.dot(A, B)\n",
        "    BA = np.dot(B, A)\n",
        "    return AB, BA\n",
        "\n",
        "AB, BA = prove_non_commutative(A, B)\n",
        "print(\"\\nAB = \\n\", AB)\n",
        "print(\"BA = \\n\", BA)\n",
        "print(\"\\nAB ≠ BA: \", not np.array_equal(AB, BA))\n",
        "\n",
        "# 3. Prove (AB)ᵀ = BᵀAᵀ (Transpose of a product)\n",
        "def prove_transpose_product(A, B):\n",
        "    \"\"\"\n",
        "    Proves that (AB)ᵀ = BᵀAᵀ.\n",
        "\n",
        "    Args:\n",
        "    A (numpy.ndarray): Matrix A.\n",
        "    B (numpy.ndarray): Matrix B.\n",
        "\n",
        "    Returns:\n",
        "    tuple: (AB)ᵀ and BᵀAᵀ results.\n",
        "    \"\"\"\n",
        "    AB_transpose = np.transpose(np.dot(A, B))\n",
        "    B_transpose_A_transpose = np.dot(np.transpose(B), np.transpose(A))\n",
        "    return AB_transpose, B_transpose_A_transpose\n",
        "\n",
        "AB_transpose, B_transpose_A_transpose = prove_transpose_product(A, B)\n",
        "print(\"\\n(AB)ᵀ = \\n\", AB_transpose)\n",
        "print(\"BᵀAᵀ = \\n\", B_transpose_A_transpose)\n",
        "print(\"\\n(AB)ᵀ = BᵀAᵀ: \", np.array_equal(AB_transpose, B_transpose_A_transpose))\n",
        "\n",
        "# 4. Solve the system of linear equations using Inverse Method\n",
        "# System of equations:\n",
        "# 2x - 3y + z = -1\n",
        "# x - y + 2z = -3\n",
        "# 3x + y - z = 9\n",
        "\n",
        "# Represent the system in matrix form: AX = B\n",
        "A_matrix = np.array([[2, -3, 1], [1, -1, 2], [3, 1, -1]])  # Coefficient matrix A\n",
        "B_matrix = np.array([-1, -3, 9])  # Constants vector B\n",
        "\n",
        "# Solve for X using inverse method: X = A⁻¹ * B\n",
        "def solve_linear_system(A_matrix, B_matrix):\n",
        "    \"\"\"\n",
        "    Solves the linear system of equations using inverse method.\n",
        "\n",
        "    Args:\n",
        "    A_matrix (numpy.ndarray): Coefficient matrix.\n",
        "    B_matrix (numpy.ndarray): Constants vector.\n",
        "\n",
        "    Returns:\n",
        "    numpy.ndarray: Solution vector X (values for x, y, z).\n",
        "    \"\"\"\n",
        "    A_inv = np.linalg.inv(A_matrix)  # Inverse of matrix A\n",
        "    X = np.dot(A_inv, B_matrix)  # Solving for X\n",
        "    return X\n",
        "\n",
        "solution = solve_linear_system(A_matrix, B_matrix)\n",
        "print(\"\\nSolution for the system of equations (using inverse method):\", solution)\n",
        "\n",
        "# 5. Solve the system of linear equations using np.linalg.solve function directly\n",
        "def solve_using_linalg(A_matrix, B_matrix):\n",
        "    \"\"\"\n",
        "    Solves the linear system of equations using np.linalg.inv directly.\n",
        "\n",
        "    Args:\n",
        "    A_matrix (numpy.ndarray): Coefficient matrix.\n",
        "    B_matrix (numpy.ndarray): Constants vector.\n",
        "\n",
        "    Returns:\n",
        "    numpy.ndarray: Solution vector X.\n",
        "    \"\"\"\n",
        "    X_linalg = np.linalg.solve(A_matrix, B_matrix)  # Using np.linalg.solve to solve AX = B\n",
        "    return X_linalg\n",
        "\n",
        "solution_linalg = solve_using_linalg(A_matrix, B_matrix)\n",
        "print(\"\\nSolution using np.linalg.solve:\", solution_linalg)\n"
      ]
    },
    {
      "cell_type": "code",
      "execution_count": 9,
      "id": "229c9a7a-7018-49a4-8a7a-ffbfef322623",
      "metadata": {
        "colab": {
          "base_uri": "https://localhost:8080/"
        },
        "id": "229c9a7a-7018-49a4-8a7a-ffbfef322623",
        "outputId": "261f785b-598b-450e-cf77-9af565af79f5"
      },
      "outputs": [
        {
          "output_type": "stream",
          "name": "stdout",
          "text": [
            "Time taken for element-wise addition with Python lists: 0.081678 seconds\n",
            "Time taken for element-wise addition with NumPy arrays: 0.007141 seconds\n",
            "Time taken for element-wise multiplication with Python lists: 0.098190 seconds\n",
            "Time taken for element-wise multiplication with NumPy arrays: 0.004750 seconds\n",
            "Time taken for dot product with Python lists: 0.097122 seconds\n",
            "Time taken for dot product with NumPy arrays: 0.001960 seconds\n",
            "Time taken for matrix multiplication with Python lists: 180.311425 seconds\n",
            "Time taken for matrix multiplication with NumPy arrays: 2.522545 seconds\n"
          ]
        }
      ],
      "source": [
        "import time\n",
        "import numpy as np\n",
        "\n",
        "# Create two lists/arrays of size 1,000,000\n",
        "size = 1000000\n",
        "list1 = [i for i in range(size)]  # Create a list with values from 0 to 999,999\n",
        "list2 = [i for i in range(size)]  # Create another list with values from 0 to 999,999\n",
        "\n",
        "# 1. Element-wise Addition\n",
        "# Using Python lists\n",
        "start_time = time.time()  # Record start time\n",
        "list_add = [list1[i] + list2[i] for i in range(size)]  # Add corresponding elements from both lists\n",
        "print(\"Time taken for element-wise addition with Python lists: {:.6f} seconds\".format(time.time() - start_time))  # Print time taken\n",
        "\n",
        "# Using NumPy arrays\n",
        "np_array1 = np.arange(size)  # Create a NumPy array with values from 0 to 999,999\n",
        "np_array2 = np.arange(size)  # Create another NumPy array with values from 0 to 999,999\n",
        "start_time = time.time()  # Record start time\n",
        "np_add = np_array1 + np_array2  # Add corresponding elements from both NumPy arrays\n",
        "print(\"Time taken for element-wise addition with NumPy arrays: {:.6f} seconds\".format(time.time() - start_time))  # Print time taken\n",
        "\n",
        "# 2. Element-wise Multiplication\n",
        "# Using Python lists\n",
        "start_time = time.time()  # Record start time\n",
        "list_multiply = [list1[i] * list2[i] for i in range(size)]  # Multiply corresponding elements from both lists\n",
        "print(\"Time taken for element-wise multiplication with Python lists: {:.6f} seconds\".format(time.time() - start_time))  # Print time taken\n",
        "\n",
        "# Using NumPy arrays\n",
        "start_time = time.time()  # Record start time\n",
        "np_multiply = np_array1 * np_array2  # Multiply corresponding elements from both NumPy arrays\n",
        "print(\"Time taken for element-wise multiplication with NumPy arrays: {:.6f} seconds\".format(time.time() - start_time))  # Print time taken\n",
        "\n",
        "# 3. Dot Product\n",
        "# Using Python lists\n",
        "start_time = time.time()  # Record start time\n",
        "dot_product_list = sum(list1[i] * list2[i] for i in range(size))  # Calculate the dot product of the two lists\n",
        "print(\"Time taken for dot product with Python lists: {:.6f} seconds\".format(time.time() - start_time))  # Print time taken\n",
        "\n",
        "# Using NumPy arrays\n",
        "start_time = time.time()  # Record start time\n",
        "dot_product_np = np.dot(np_array1, np_array2)  # Calculate the dot product using NumPy\n",
        "print(\"Time taken for dot product with NumPy arrays: {:.6f} seconds\".format(time.time() - start_time))  # Print time taken\n",
        "\n",
        "# 4. Matrix Multiplication (1000x1000)\n",
        "# Create two matrices of size 1000x1000 using lists\n",
        "matrix1 = [[i for i in range(1000)] for j in range(1000)]  # 1000x1000 matrix with values from 0 to 999\n",
        "matrix2 = [[i for i in range(1000)] for j in range(1000)]  # Another 1000x1000 matrix with values from 0 to 999\n",
        "\n",
        "# Using Python lists\n",
        "start_time = time.time()  # Record start time\n",
        "matrix_multiply_list = [[sum(matrix1[i][k] * matrix2[k][j] for k in range(1000)) for j in range(1000)] for i in range(1000)]  # Matrix multiplication using lists\n",
        "print(\"Time taken for matrix multiplication with Python lists: {:.6f} seconds\".format(time.time() - start_time))  # Print time taken\n",
        "\n",
        "# Using NumPy arrays\n",
        "np_matrix1 = np.arange(1000000).reshape(1000, 1000)  # Create a 1000x1000 NumPy matrix\n",
        "np_matrix2 = np.arange(1000000).reshape(1000, 1000)  # Create another 1000x1000 NumPy matrix\n",
        "start_time = time.time()  # Record start time\n",
        "matrix_multiply_np = np.dot(np_matrix1, np_matrix2)  # Perform matrix multiplication using NumPy\n",
        "print(\"Time taken for matrix multiplication with NumPy arrays: {:.6f} seconds\".format(time.time() - start_time))  # Print time taken\n"
      ]
    },
    {
      "cell_type": "code",
      "execution_count": null,
      "id": "79ace1cb-4d4d-4c56-ba81-34a38c487015",
      "metadata": {
        "id": "79ace1cb-4d4d-4c56-ba81-34a38c487015"
      },
      "outputs": [],
      "source": []
    }
  ],
  "metadata": {
    "kernelspec": {
      "display_name": "Python [conda env:base] *",
      "language": "python",
      "name": "conda-base-py"
    },
    "language_info": {
      "codemirror_mode": {
        "name": "ipython",
        "version": 3
      },
      "file_extension": ".py",
      "mimetype": "text/x-python",
      "name": "python",
      "nbconvert_exporter": "python",
      "pygments_lexer": "ipython3",
      "version": "3.12.7"
    },
    "colab": {
      "provenance": [],
      "toc_visible": true
    }
  },
  "nbformat": 4,
  "nbformat_minor": 5
}